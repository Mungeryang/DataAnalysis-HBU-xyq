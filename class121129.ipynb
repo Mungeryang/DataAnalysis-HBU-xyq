{
 "cells": [
  {
   "cell_type": "code",
   "execution_count": 13,
   "metadata": {
    "collapsed": true
   },
   "outputs": [],
   "source": [
    "import re\n",
    "import numpy as np\n",
    "import pandas as pd\n",
    "import requests\n",
    "from bs4 import BeautifulSoup\n",
    "import matplotlib.pyplot as plt\n",
    "from wordcloud import WordCloud,STOPWORDS\n"
   ]
  },
  {
   "cell_type": "markdown",
   "source": [
    "BeautifulSoup(markup,'html.parser')\n",
    "markup：抓取的网页内容，html文件\n",
    "\n",
    "html文件里的标签结构:\n",
    "<标签名+属性+字符串>\n",
    "name:标签名->返回一个标签\n",
    "attrs：属性->返回字典\n",
    "string：文本内容->返回字符串\n",
    "contents：子节点->返回列表\n",
    "\n",
    "遍历文档树\n",
    "contents\n",
    "children\n",
    "descendants\n",
    "parent\n",
    "next_sibling\n",
    "previous_sibling\n",
    "\n",
    "搜索文档树\n",
    "find(name,attrs,string)->找到符合条件的第一个标签\n",
    "find_all"
   ],
   "metadata": {
    "collapsed": false
   }
  },
  {
   "cell_type": "code",
   "execution_count": null,
   "outputs": [],
   "source": [
    "r = requests.get(\"https://www.baidu.com\")\n",
    "r.encoding = r.apparent_encoding\n",
    "bs = BeautifulSoup(r.text,'html.parser')\n",
    "bs.a.attrs['href']\n",
    "b = bs.body\n",
    "b.contents\n",
    "b.children\n",
    "list(b.descendants)\n",
    "b.parent"
   ],
   "metadata": {
    "collapsed": false,
    "pycharm": {
     "name": "#%%\n",
     "is_executing": true
    }
   }
  },
  {
   "cell_type": "markdown",
   "source": [
    "搜索文档树\n",
    "find(name,attrs,string,**kwargs)->找到符合条件的第一个标签\n",
    "attrs中涉及到class标签一定要写成class_\n",
    "find_all"
   ],
   "metadata": {
    "collapsed": false
   }
  },
  {
   "cell_type": "code",
   "execution_count": null,
   "outputs": [],
   "source": [
    "r = requests.get(\"https://www.baidu.com\")\n",
    "r.encoding = r.apparent_encoding\n",
    "bs = BeautifulSoup(r.text,'html.parser')\n",
    "bs.find('a')\n",
    "a_list = bs.find_all('a')\n",
    "for item in a_list:\n",
    "    print(item.string,\":\",item.attrs['href'])"
   ],
   "metadata": {
    "collapsed": false,
    "pycharm": {
     "name": "#%%\n",
     "is_executing": true
    }
   }
  },
  {
   "cell_type": "markdown",
   "source": [
    "爬取河北大学网页图片"
   ],
   "metadata": {
    "collapsed": false
   }
  },
  {
   "cell_type": "code",
   "execution_count": null,
   "outputs": [],
   "source": [
    "url = 'https://www.hbu.edu.cn/'\n",
    "headers = {\n",
    "    'User-Agent':\"Mozilla/5.0 (Windows NT 10.0; Win64; x64) AppleWebKit/537.36 (KHTML, like Gecko) Chrome/103.0.0.0 Safari/537.36\",\n",
    "    'Cookie':\"JSESSIONID=E06164A6CDA0CC9464A727A782186218\"\n",
    "}\n",
    "r = requests.get(url,headers=headers)\n",
    "r.encoding = r.apparent_encoding\n",
    "img_bs = BeautifulSoup(r.text,'html.parser')\n",
    "img_list = img_bs.find_all('img')\n",
    "#for item in img_list:\n",
    "    #print(\"https://www.hbu.edu.cn/\"+item.attrs['src'])\n",
    "    #img.append(\"https://www.hbu.edu.cn/\"+item.attrs['src'])\n",
    "    #filename = item.attrs['src'].split('/')[-1]\n",
    "    #img = requests.get(url+item.attrs['src'])\n",
    "    #with open(filename,'wb') as f:\n",
    "        #f.write(img.content)\n",
    "#for i in range(len(img)):\n",
    "    #with open('hbupic.jpg','wb',encoding=\"utf-8\") as f:\n",
    "        #f.write(img)\n",
    "        #f.close()"
   ],
   "metadata": {
    "collapsed": false,
    "pycharm": {
     "name": "#%%\n",
     "is_executing": true
    }
   }
  },
  {
   "cell_type": "code",
   "execution_count": null,
   "outputs": [],
   "source": [
    "url = 'https://www.hbu.edu.cn/'\n",
    "headers = {\n",
    "    'User-Agent':\"Mozilla/5.0 (Windows NT 10.0; Win64; x64) AppleWebKit/537.36 (KHTML, like Gecko) Chrome/103.0.0.0 Safari/537.36\",\n",
    "    'Cookie':\"JSESSIONID=E06164A6CDA0CC9464A727A782186218\"\n",
    "}\n",
    "r = requests.get(url,headers=headers)\n",
    "r.encoding = r.apparent_encoding\n",
    "soup = BeautifulSoup(r.text,'html.parser')\n",
    "d = soup.find('div',class_='tabcon')\n",
    "for li in d.find_all('li'):\n",
    "    a = li.a\n",
    "    print(a['title'],\":\",a['href'])"
   ],
   "metadata": {
    "collapsed": false,
    "pycharm": {
     "name": "#%%\n",
     "is_executing": true
    }
   }
  },
  {
   "cell_type": "markdown",
   "source": [
    "正则表达式:\n",
    "import re\n",
    "基本要素：\n",
    "字符类\n",
    "数量限定符\n",
    "位置限定符\n",
    "特殊符号"
   ],
   "metadata": {
    "collapsed": false
   }
  },
  {
   "cell_type": "markdown",
   "source": [
    "compile编译对象"
   ],
   "metadata": {
    "collapsed": false
   }
  },
  {
   "cell_type": "code",
   "execution_count": null,
   "outputs": [],
   "source": [
    "import re\n",
    "re.findall('[0-9]{3}-[0-9]{8}','hhhh010-12345678,kkkkkk02312-8888888')\n",
    "re.findall('[^abc][sd]','tscscadwd')\n",
    "re.findall('[a-z]+[0-9]','a1*****2ccc345')\n",
    "re.findall('[abc][0-9]*[xy]$','a1xb22abc777y')"
   ],
   "metadata": {
    "collapsed": false,
    "pycharm": {
     "name": "#%%\n",
     "is_executing": true
    }
   }
  },
  {
   "cell_type": "code",
   "execution_count": 26,
   "outputs": [],
   "source": [
    "url = 'https://world.fang.com/house/'\n",
    "headers = {\n",
    "    'User-Agent':\"Mozilla/5.0 (Windows NT 10.0; Win64; x64) AppleWebKit/537.36 (KHTML, like Gecko) Chrome/103.0.0.0 Safari/537.36\",\n",
    "    'Cookie':\"global_cookie=uxaw0222vz82cey224l5xlmtk17laia25jh; __utma=147393320.276867331.1668520574.1668520574.1668520574.1; __utmc=147393320; __utmz=147393320.1668520574.1.1.utmcsr=(direct)|utmccn=(direct)|utmcmd=(none); __utmt_t0=1; __utmt_t1=1; __utmt_t2=1; __utmt_t3=1; __utmt_t4=1; csrfToken=XFHptIXVE4xBSNVokZ1nvbC8; __jsluid_s=354e58a149ea63bb9eb6b4be794689b5; g_sourcepage=esf_fy^lb_pc; city=world; unique_cookie=U_uxaw0222vz82cey224l5xlmtk17laia25jh*7; __utmb=147393320.19.10.1668520574\"\n",
    "}\n",
    "r = requests.get(url,headers=headers)\n",
    "r.encoding = r.apparent_encoding\n",
    "soup = BeautifulSoup(r.text,'html.parser')\n",
    "house = soup.find_all('span',class_='tit_shop')\n",
    "house_name = []\n",
    "for i in house:\n",
    "    house_name.append(i.string.split('\\t')[-1])\n",
    "price = soup.find_all('b')\n",
    "price_list = []\n",
    "for p in price:\n",
    "    price_list.append(p.string)\n",
    "dic = {'房源':house_name,'价格':price_list}\n",
    "df = pd.DataFrame(dic)\n",
    "df.to_csv(\"house.csv\")"
   ],
   "metadata": {
    "collapsed": false,
    "pycharm": {
     "name": "#%%\n"
    }
   }
  },
  {
   "cell_type": "code",
   "execution_count": 8,
   "outputs": [
    {
     "data": {
      "text/plain": "['68.3',\n '415',\n '250',\n '3252',\n '900',\n '5886',\n '415',\n '129',\n '798',\n '674',\n '550',\n '181',\n '811',\n '211',\n '167.79',\n '923',\n '961',\n '450',\n '100',\n '400',\n '608']"
     },
     "execution_count": 8,
     "metadata": {},
     "output_type": "execute_result"
    }
   ],
   "source": [
    "url = 'https://world.fang.com/house/'\n",
    "headers = {\n",
    "    'User-Agent':\"Mozilla/5.0 (Windows NT 10.0; Win64; x64) AppleWebKit/537.36 (KHTML, like Gecko) Chrome/103.0.0.0 Safari/537.36\",\n",
    "    'Cookie':\"global_cookie=uxaw0222vz82cey224l5xlmtk17laia25jh; __utma=147393320.276867331.1668520574.1668520574.1668520574.1; __utmc=147393320; __utmz=147393320.1668520574.1.1.utmcsr=(direct)|utmccn=(direct)|utmcmd=(none); __utmt_t0=1; __utmt_t1=1; __utmt_t2=1; __utmt_t3=1; __utmt_t4=1; csrfToken=XFHptIXVE4xBSNVokZ1nvbC8; __jsluid_s=354e58a149ea63bb9eb6b4be794689b5; g_sourcepage=esf_fy^lb_pc; city=world; unique_cookie=U_uxaw0222vz82cey224l5xlmtk17laia25jh*7; __utmb=147393320.19.10.1668520574\"\n",
    "}\n",
    "r = requests.get(url,headers=headers)\n",
    "r.encoding = r.apparent_encoding\n",
    "soup = BeautifulSoup(r.text,'html.parser')\n",
    "price = soup.find_all('b')\n",
    "price_list = []\n",
    "for p in price:\n",
    "    #b = p.b\n",
    "    #print(p.string)\n",
    "    price_list.append(p.string)\n",
    "price_list"
   ],
   "metadata": {
    "collapsed": false,
    "pycharm": {
     "name": "#%%\n"
    }
   }
  },
  {
   "cell_type": "code",
   "execution_count": 53,
   "outputs": [
    {
     "data": {
      "text/plain": "['肖申克的救赎',\n '\\xa0/\\xa0The Shawshank Redemption',\n '霸王别姬',\n '阿甘正传',\n '\\xa0/\\xa0Forrest Gump',\n '泰坦尼克号',\n '\\xa0/\\xa0Titanic',\n '这个杀手不太冷',\n '\\xa0/\\xa0Léon',\n '美丽人生',\n '\\xa0/\\xa0La vita è bella',\n '千与千寻',\n '\\xa0/\\xa0千と千尋の神隠し',\n '辛德勒的名单',\n \"\\xa0/\\xa0Schindler's List\",\n '盗梦空间',\n '\\xa0/\\xa0Inception',\n '星际穿越',\n '\\xa0/\\xa0Interstellar',\n '楚门的世界',\n '\\xa0/\\xa0The Truman Show',\n '忠犬八公的故事',\n \"\\xa0/\\xa0Hachi: A Dog's Tale\",\n '海上钢琴师',\n \"\\xa0/\\xa0La leggenda del pianista sull'oceano\",\n '三傻大闹宝莱坞',\n '\\xa0/\\xa03 Idiots',\n '机器人总动员',\n '\\xa0/\\xa0WALL·E',\n '放牛班的春天',\n '\\xa0/\\xa0Les choristes',\n '无间道',\n '\\xa0/\\xa0無間道',\n '疯狂动物城',\n '\\xa0/\\xa0Zootopia',\n '大话西游之大圣娶亲',\n '\\xa0/\\xa0西遊記大結局之仙履奇緣',\n '控方证人',\n '\\xa0/\\xa0Witness for the Prosecution',\n '熔炉',\n '\\xa0/\\xa0도가니',\n '教父',\n '\\xa0/\\xa0The Godfather',\n '当幸福来敲门',\n '\\xa0/\\xa0The Pursuit of Happyness',\n '触不可及',\n '\\xa0/\\xa0Intouchables',\n '怦然心动',\n '\\xa0/\\xa0Flipped']"
     },
     "execution_count": 53,
     "metadata": {},
     "output_type": "execute_result"
    }
   ],
   "source": [
    "url1 = \"https://movie.douban.com/top250\"\n",
    "headers1 = {\n",
    "    'User-Agent':\"Mozilla/5.0 (Windows NT 10.0; Win64; x64) AppleWebKit/537.36 (KHTML, like Gecko) Chrome/107.0.0.0 Safari/537.36\",\n",
    "    'Cookie':'viewed=\"36055837\"; bid=WDrOhSvQryw; __gads=ID=0245d69494c83892-22c2458d86d6009f:T=1661828985:RT=1661828985:S=ALNI_MZa4wmzrVwcmazW2Z_CAJ7qTvoIeQ; gr_user_id=61ea365b-a17f-4012-9aa2-92895df7834b; ll=\"118096\"; __utmc=30149280; __utmc=223695111; ap_v=0,6.0; __gpi=UID=00000b810719b895:T=1669105397:RT=1669105397:S=ALNI_MZpAiioDWmN5IvSwd3xMxzE07lELQ; _pk_ref.100001.4cf6=[\"\",\"\",1669109267,\"https://www.douban.com/\"]; _pk_ses.100001.4cf6=*; _vwo_uuid_v2=D1ACC1C7B791745F594CCEADB275E1684|d65b0ef48516680d8cc651e2828897ed; _pk_id.100001.4cf6=bdf808cc1dafb2cc.1669105389.2.1669109299.1669105389.; __utma=30149280.645684939.1661828978.1669109267.1669109299.5; __utmb=30149280.0.10.1669109299; __utmz=30149280.1669109299.5.5.utmcsr=baidu|utmccn=(organic)|utmcmd=organic; __utma=223695111.360586466.1669105388.1669109267.1669109299.3; __utmb=223695111.0.10.1669109299; __utmz=223695111.1669109299.3.3.utmcsr=baidu|utmccn=(organic)|utmcmd=organic'\n",
    "}\n",
    "#发送请求\n",
    "get = requests.get(url1,headers=headers1)\n",
    "#对于发送请求得到的页面进行编码\n",
    "get.encoding = get.apparent_encoding\n",
    "#解析html源文件\n",
    "soup = BeautifulSoup(get.text,'html.parser')\n",
    "#遍历文档树\n",
    "Name = []\n",
    "name_list = soup.find_all('span',class_='title')\n",
    "for name in name_list:\n",
    "    Name.append(name.string)\n",
    "Name"
   ],
   "metadata": {
    "collapsed": false,
    "pycharm": {
     "name": "#%%\n"
    }
   }
  },
  {
   "cell_type": "markdown",
   "source": [
    "评论爬取-<肖申克的救赎>"
   ],
   "metadata": {
    "collapsed": false
   }
  },
  {
   "cell_type": "code",
   "execution_count": null,
   "outputs": [],
   "source": [],
   "metadata": {
    "collapsed": false,
    "pycharm": {
     "name": "#%%\n"
    }
   }
  },
  {
   "cell_type": "code",
   "execution_count": 77,
   "outputs": [
    {
     "data": {
      "text/plain": "[]"
     },
     "execution_count": 77,
     "metadata": {},
     "output_type": "execute_result"
    }
   ],
   "source": [
    "url = \"https://movie.douban.com/subject/1292052/\"\n",
    "headers = {\n",
    "    'User-Agent':\"Mozilla/5.0 (Windows NT 10.0; Win64; x64) AppleWebKit/537.36 (KHTML, like Gecko) Chrome/107.0.0.0 Safari/537.36\",\n",
    "    'Cookie':'viewed=\"36055837\"; bid=WDrOhSvQryw; __gads=ID=0245d69494c83892-22c2458d86d6009f:T=1661828985:RT=1661828985:S=ALNI_MZa4wmzrVwcmazW2Z_CAJ7qTvoIeQ; gr_user_id=61ea365b-a17f-4012-9aa2-92895df7834b; ll=\"118096\"; __utmc=30149280; __utmc=223695111; __gpi=UID=00000b810719b895:T=1669105397:RT=1669105397:S=ALNI_MZpAiioDWmN5IvSwd3xMxzE07lELQ; _vwo_uuid_v2=D1ACC1C7B791745F594CCEADB275E1684|d65b0ef48516680d8cc651e2828897ed; ap_v=0,6.0; __utmz=30149280.1669122436.6.6.utmcsr=baidu|utmccn=(organic)|utmcmd=organic; __utmz=223695111.1669122436.4.4.utmcsr=baidu|utmccn=(organic)|utmcmd=organic; _pk_ref.100001.4cf6=[\"\",\"\",1669125172,\"https://www.baidu.com/link?url=wd2fu1Am1TAmS1_N3bD_VFOenS-S6KjPNDkIy_-j26KfkatO8_Vs8CW4z2doZpFS&wd=&eqid=9c71d234000118ba00000003637c9638\"]; _pk_id.100001.4cf6=bdf808cc1dafb2cc.1669105389.4.1669125172.1669122803.; _pk_ses.100001.4cf6=*; __utma=30149280.645684939.1661828978.1669122436.1669125172.7; __utmb=30149280.0.10.1669125172; __utma=223695111.360586466.1669105388.1669122436.1669125172.5; __utmb=223695111.0.10.1669125172; __yadk_uid=FZyPhucgRN0Zwu4Z3E8BC3yM4L8v5Gm6'\n",
    "}\n",
    "#发送请求\n",
    "get = requests.get(url1,headers=headers1)\n",
    "#对于发送请求得到的页面进行编码\n",
    "get.encoding = get.apparent_encoding\n",
    "#解析html源文件\n",
    "soup = BeautifulSoup(get.text,'html.parser')\n",
    "com_list = []\n",
    "comment = soup.findAll(\"div\", {\"class\":\"comment-item \"})\n",
    "# comment = soup.find_all('p')\n",
    "# for com in comment.findAll('span',{\"class\":\"short\"}):\n",
    "#     com = com.span\n",
    "#     com_list.append(com.string)\n",
    "#     #com_list.append(com['span'])\n",
    "# com_list\n",
    "comment"
   ],
   "metadata": {
    "collapsed": false,
    "pycharm": {
     "name": "#%%\n"
    }
   }
  },
  {
   "cell_type": "code",
   "execution_count": 20,
   "outputs": [
    {
     "ename": "TypeError",
     "evalue": "keys() takes no arguments (1 given)",
     "output_type": "error",
     "traceback": [
      "\u001B[1;31m---------------------------------------------------------------------------\u001B[0m",
      "\u001B[1;31mTypeError\u001B[0m                                 Traceback (most recent call last)",
      "\u001B[1;32m~\\AppData\\Local\\Temp\\ipykernel_15156\\4154688692.py\u001B[0m in \u001B[0;36m<module>\u001B[1;34m\u001B[0m\n\u001B[0;32m      1\u001B[0m \u001B[0mdic\u001B[0m \u001B[1;33m=\u001B[0m \u001B[1;33m{\u001B[0m\u001B[1;34m'sd'\u001B[0m\u001B[1;33m:\u001B[0m\u001B[1;36m12\u001B[0m\u001B[1;33m,\u001B[0m\u001B[1;34m'dw'\u001B[0m\u001B[1;33m:\u001B[0m\u001B[1;36m21\u001B[0m\u001B[1;33m}\u001B[0m\u001B[1;33m\u001B[0m\u001B[1;33m\u001B[0m\u001B[0m\n\u001B[1;32m----> 2\u001B[1;33m \u001B[0mdic\u001B[0m\u001B[1;33m.\u001B[0m\u001B[0mkeys\u001B[0m\u001B[1;33m(\u001B[0m\u001B[1;36m0\u001B[0m\u001B[1;33m)\u001B[0m\u001B[1;33m\u001B[0m\u001B[1;33m\u001B[0m\u001B[0m\n\u001B[0m",
      "\u001B[1;31mTypeError\u001B[0m: keys() takes no arguments (1 given)"
     ]
    }
   ],
   "source": [],
   "metadata": {
    "collapsed": false,
    "pycharm": {
     "name": "#%%\n"
    }
   }
  }
 ],
 "metadata": {
  "kernelspec": {
   "display_name": "Python 3",
   "language": "python",
   "name": "python3"
  },
  "language_info": {
   "codemirror_mode": {
    "name": "ipython",
    "version": 2
   },
   "file_extension": ".py",
   "mimetype": "text/x-python",
   "name": "python",
   "nbconvert_exporter": "python",
   "pygments_lexer": "ipython2",
   "version": "2.7.6"
  }
 },
 "nbformat": 4,
 "nbformat_minor": 0
}