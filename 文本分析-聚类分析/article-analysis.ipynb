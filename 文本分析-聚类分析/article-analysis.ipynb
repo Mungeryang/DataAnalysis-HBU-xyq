{
 "cells": [
  {
   "cell_type": "code",
   "execution_count": 3,
   "id": "2f52d052-9f3f-422b-90be-a2838d3ceb7d",
   "metadata": {},
   "outputs": [],
   "source": [
    "import numpy as np\n",
    "import pandas as pd\n",
    "import matplotlib.pyplot as plt\n",
    "import seaborn as sns"
   ]
  },
  {
   "cell_type": "markdown",
   "id": "7fe655fa-412b-459f-aa88-950913758347",
   "metadata": {},
   "source": [
    "读取文本文件并进行数据的清洗：\n",
    "空格的处理：文本中含有大量的空格，所以去掉空格的方法就是replace方法\n",
    "注意：replace方法不能改变源数据，必须对操作后的数据再次赋值\n",
    "广告信息的处理方式：->《红楼梦》小说来源于飞卢小说网\n",
    "用split函数删除广告信息；注意分析，此时的str是一个长长的字符串，是不可改变的数据类型\n",
    "所以用split函数将字符串切合分为数组，在将数组转换为dataframe操作"
   ]
  },
  {
   "cell_type": "code",
   "execution_count": 5,
   "id": "37d98d3d-fa1d-4ed8-b907-0634a25d848e",
   "metadata": {},
   "outputs": [],
   "source": [
    "with open(\"txt_analysis.txt\",encoding='gbk') as f:\n",
    "    txt = f.read()\n",
    "txt = txt.replace(' ','')\n",
    "txt = txt.replace('\\u3000','')"
   ]
  },
  {
   "cell_type": "code",
   "execution_count": 11,
   "id": "b6c67daa-b39e-4c84-b690-690fe021810c",
   "metadata": {},
   "outputs": [
    {
     "data": {
      "text/html": [
       "<div>\n",
       "<style scoped>\n",
       "    .dataframe tbody tr th:only-of-type {\n",
       "        vertical-align: middle;\n",
       "    }\n",
       "\n",
       "    .dataframe tbody tr th {\n",
       "        vertical-align: top;\n",
       "    }\n",
       "\n",
       "    .dataframe thead th {\n",
       "        text-align: right;\n",
       "    }\n",
       "</style>\n",
       "<table border=\"1\" class=\"dataframe\">\n",
       "  <thead>\n",
       "    <tr style=\"text-align: right;\">\n",
       "      <th></th>\n",
       "      <th>text</th>\n",
       "    </tr>\n",
       "  </thead>\n",
       "  <tbody>\n",
       "    <tr>\n",
       "      <th>0</th>\n",
       "      <td>第一回甄士隐梦幻识通灵贾雨村风尘怀闺秀</td>\n",
       "    </tr>\n",
       "    <tr>\n",
       "      <th>1</th>\n",
       "      <td>此开卷第一回也。作者自云：因曾历过一番梦幻之后，故将真事隐去，而借通灵之说。</td>\n",
       "    </tr>\n",
       "    <tr>\n",
       "      <th>2</th>\n",
       "      <td>此回中凡用“梦”用“幻”等字，是提醒阅者眼目，亦是此书立意本旨。</td>\n",
       "    </tr>\n",
       "    <tr>\n",
       "      <th>3</th>\n",
       "      <td>第二回贾夫人仙逝扬州城冷子兴演说荣国府</td>\n",
       "    </tr>\n",
       "    <tr>\n",
       "      <th>4</th>\n",
       "      <td>诗云</td>\n",
       "    </tr>\n",
       "    <tr>\n",
       "      <th>5</th>\n",
       "      <td>一局输赢料不真，香销茶尽尚逡巡。</td>\n",
       "    </tr>\n",
       "    <tr>\n",
       "      <th>6</th>\n",
       "      <td>却说封肃因听见公差传唤，忙出来陪笑启问。</td>\n",
       "    </tr>\n",
       "    <tr>\n",
       "      <th>7</th>\n",
       "      <td>第三回贾雨村夤缘复旧职林黛玉抛父进京都</td>\n",
       "    </tr>\n",
       "    <tr>\n",
       "      <th>8</th>\n",
       "      <td>却说雨村忙回头看时，不是别人，乃是当日同僚一案参革的号张如圭者。</td>\n",
       "    </tr>\n",
       "    <tr>\n",
       "      <th>9</th>\n",
       "      <td>无故寻愁觅恨，有时似傻如狂。</td>\n",
       "    </tr>\n",
       "    <tr>\n",
       "      <th>10</th>\n",
       "      <td>纵然生得好皮囊，腹内原来草莽。潦倒不通世务</td>\n",
       "    </tr>\n",
       "  </tbody>\n",
       "</table>\n",
       "</div>"
      ],
      "text/plain": [
       "                                      text\n",
       "0                      第一回甄士隐梦幻识通灵贾雨村风尘怀闺秀\n",
       "1   此开卷第一回也。作者自云：因曾历过一番梦幻之后，故将真事隐去，而借通灵之说。\n",
       "2         此回中凡用“梦”用“幻”等字，是提醒阅者眼目，亦是此书立意本旨。\n",
       "3                      第二回贾夫人仙逝扬州城冷子兴演说荣国府\n",
       "4                                       诗云\n",
       "5                         一局输赢料不真，香销茶尽尚逡巡。\n",
       "6                     却说封肃因听见公差传唤，忙出来陪笑启问。\n",
       "7                      第三回贾雨村夤缘复旧职林黛玉抛父进京都\n",
       "8         却说雨村忙回头看时，不是别人，乃是当日同僚一案参革的号张如圭者。\n",
       "9                           无故寻愁觅恨，有时似傻如狂。\n",
       "10                   纵然生得好皮囊，腹内原来草莽。潦倒不通世务"
      ]
     },
     "execution_count": 11,
     "metadata": {},
     "output_type": "execute_result"
    }
   ],
   "source": [
    "#一个长列表\n",
    "ls = txt.split()\n",
    "#数组转换为dataframe\n",
    "df = pd.DataFrame(ls,columns=['text'])\n",
    "#正则表达式去除广告：~取反 是没有^《红楼梦》的行\n",
    "#df.text.str:关键的操作，每一行元素的字符串提取\n",
    "df = df[~df.text.str.contains(\"^《红楼梦》\")]\n",
    "#将乱序索引重新排序\n",
    "df.index = range(df.size)\n",
    "#重置索引\n",
    "df = df.reset_index(drop=True)\n",
    "df"
   ]
  },
  {
   "cell_type": "markdown",
   "id": "60bb05fb-af96-4e16-b418-55a81aed50b1",
   "metadata": {},
   "source": [
    "查找每回的开头并提取"
   ]
  },
  {
   "cell_type": "code",
   "execution_count": null,
   "id": "d2eeb847-5939-4d69-b24e-b28180817108",
   "metadata": {},
   "outputs": [],
   "source": [
    "chap_index = df.text.str.contains(\"^第.+回\")\n",
    "chap_info = df[chap_index]\n",
    "chap_info = chap_info.reset_index(drop=True)\n",
    "#chap_info\n",
    "chap_s = chap_info[\"text\"].str.split(\"回\")\n",
    "#匿名函数的巧妙使用\n",
    "chap_info[\"chap_No\"] = list(map(lambda x:x[0]+'回',chap_s))\n",
    "chap_info.drop('text',axis=1,inplace=True)\n",
    "chap_info['start'] = df[chap_index].index"
   ]
  },
  {
   "cell_type": "code",
   "execution_count": 41,
   "id": "b9cbe484-a8f5-4d89-a6a3-9d7d5293c04f",
   "metadata": {},
   "outputs": [
    {
     "data": {
      "text/html": [
       "<div>\n",
       "<style scoped>\n",
       "    .dataframe tbody tr th:only-of-type {\n",
       "        vertical-align: middle;\n",
       "    }\n",
       "\n",
       "    .dataframe tbody tr th {\n",
       "        vertical-align: top;\n",
       "    }\n",
       "\n",
       "    .dataframe thead th {\n",
       "        text-align: right;\n",
       "    }\n",
       "</style>\n",
       "<table border=\"1\" class=\"dataframe\">\n",
       "  <thead>\n",
       "    <tr style=\"text-align: right;\">\n",
       "      <th></th>\n",
       "      <th>text</th>\n",
       "    </tr>\n",
       "  </thead>\n",
       "  <tbody>\n",
       "    <tr>\n",
       "      <th>0</th>\n",
       "      <td>第一回甄士隐梦幻识通灵贾雨村风尘怀闺秀</td>\n",
       "    </tr>\n",
       "    <tr>\n",
       "      <th>1</th>\n",
       "      <td>此开卷第一回也。作者自云：因曾历过一番梦幻之后，故将真事隐去，而借通灵之说。</td>\n",
       "    </tr>\n",
       "    <tr>\n",
       "      <th>2</th>\n",
       "      <td>此回中凡用“梦”用“幻”等字，是提醒阅者眼目，亦是此书立意本旨。</td>\n",
       "    </tr>\n",
       "    <tr>\n",
       "      <th>3</th>\n",
       "      <td>第二回贾夫人仙逝扬州城冷子兴演说荣国府</td>\n",
       "    </tr>\n",
       "    <tr>\n",
       "      <th>4</th>\n",
       "      <td>诗云</td>\n",
       "    </tr>\n",
       "    <tr>\n",
       "      <th>5</th>\n",
       "      <td>一局输赢料不真，香销茶尽尚逡巡。</td>\n",
       "    </tr>\n",
       "    <tr>\n",
       "      <th>6</th>\n",
       "      <td>却说封肃因听见公差传唤，忙出来陪笑启问。</td>\n",
       "    </tr>\n",
       "    <tr>\n",
       "      <th>7</th>\n",
       "      <td>第三回贾雨村夤缘复旧职林黛玉抛父进京都</td>\n",
       "    </tr>\n",
       "    <tr>\n",
       "      <th>8</th>\n",
       "      <td>却说雨村忙回头看时，不是别人，乃是当日同僚一案参革的号张如圭者。</td>\n",
       "    </tr>\n",
       "    <tr>\n",
       "      <th>9</th>\n",
       "      <td>无故寻愁觅恨，有时似傻如狂。</td>\n",
       "    </tr>\n",
       "    <tr>\n",
       "      <th>10</th>\n",
       "      <td>纵然生得好皮囊，腹内原来草莽。潦倒不通世务</td>\n",
       "    </tr>\n",
       "  </tbody>\n",
       "</table>\n",
       "</div>"
      ],
      "text/plain": [
       "                                      text\n",
       "0                      第一回甄士隐梦幻识通灵贾雨村风尘怀闺秀\n",
       "1   此开卷第一回也。作者自云：因曾历过一番梦幻之后，故将真事隐去，而借通灵之说。\n",
       "2         此回中凡用“梦”用“幻”等字，是提醒阅者眼目，亦是此书立意本旨。\n",
       "3                      第二回贾夫人仙逝扬州城冷子兴演说荣国府\n",
       "4                                       诗云\n",
       "5                         一局输赢料不真，香销茶尽尚逡巡。\n",
       "6                     却说封肃因听见公差传唤，忙出来陪笑启问。\n",
       "7                      第三回贾雨村夤缘复旧职林黛玉抛父进京都\n",
       "8         却说雨村忙回头看时，不是别人，乃是当日同僚一案参革的号张如圭者。\n",
       "9                           无故寻愁觅恨，有时似傻如狂。\n",
       "10                   纵然生得好皮囊，腹内原来草莽。潦倒不通世务"
      ]
     },
     "execution_count": 41,
     "metadata": {},
     "output_type": "execute_result"
    }
   ],
   "source": [
    "#计算每回的段落数\n",
    "s = np.array(chap_info['start'])\n",
    "#矩阵的操作\n",
    "para = s[1:]-s[0:-1]\n",
    "cnt = list(para)\n",
    "\n",
    "cnt.append(df.size-s[-1])\n",
    "chap_info['para_count'] = cnt\n",
    "chap_info\n"
   ]
  },
  {
   "cell_type": "code",
   "execution_count": 45,
   "id": "53eefeb7-0b5e-4ff5-b1e7-e1062035e176",
   "metadata": {},
   "outputs": [
    {
     "data": {
      "text/html": [
       "<div>\n",
       "<style scoped>\n",
       "    .dataframe tbody tr th:only-of-type {\n",
       "        vertical-align: middle;\n",
       "    }\n",
       "\n",
       "    .dataframe tbody tr th {\n",
       "        vertical-align: top;\n",
       "    }\n",
       "\n",
       "    .dataframe thead th {\n",
       "        text-align: right;\n",
       "    }\n",
       "</style>\n",
       "<table border=\"1\" class=\"dataframe\">\n",
       "  <thead>\n",
       "    <tr style=\"text-align: right;\">\n",
       "      <th></th>\n",
       "      <th>chap_No</th>\n",
       "      <th>start</th>\n",
       "      <th>para_count</th>\n",
       "      <th>para_txt</th>\n",
       "      <th>words</th>\n",
       "    </tr>\n",
       "  </thead>\n",
       "  <tbody>\n",
       "    <tr>\n",
       "      <th>0</th>\n",
       "      <td>第一回</td>\n",
       "      <td>0</td>\n",
       "      <td>3</td>\n",
       "      <td>第一回甄士隐梦幻识通灵贾雨村风尘怀闺秀此开卷第一回也。作者自云：因曾历过一番梦幻之后，故将真...</td>\n",
       "      <td>89</td>\n",
       "    </tr>\n",
       "    <tr>\n",
       "      <th>1</th>\n",
       "      <td>第二回</td>\n",
       "      <td>3</td>\n",
       "      <td>4</td>\n",
       "      <td>第二回贾夫人仙逝扬州城冷子兴演说荣国府诗云一局输赢料不真，香销茶尽尚逡巡。却说封肃因听见公差...</td>\n",
       "      <td>57</td>\n",
       "    </tr>\n",
       "    <tr>\n",
       "      <th>2</th>\n",
       "      <td>第三回</td>\n",
       "      <td>7</td>\n",
       "      <td>4</td>\n",
       "      <td>第三回贾雨村夤缘复旧职林黛玉抛父进京都却说雨村忙回头看时，不是别人，乃是当日同僚一案参革的号...</td>\n",
       "      <td>86</td>\n",
       "    </tr>\n",
       "  </tbody>\n",
       "</table>\n",
       "</div>"
      ],
      "text/plain": [
       "  chap_No  start  para_count  \\\n",
       "0     第一回      0           3   \n",
       "1     第二回      3           4   \n",
       "2     第三回      7           4   \n",
       "\n",
       "                                            para_txt  words  \n",
       "0  第一回甄士隐梦幻识通灵贾雨村风尘怀闺秀此开卷第一回也。作者自云：因曾历过一番梦幻之后，故将真...     89  \n",
       "1  第二回贾夫人仙逝扬州城冷子兴演说荣国府诗云一局输赢料不真，香销茶尽尚逡巡。却说封肃因听见公差...     57  \n",
       "2  第三回贾雨村夤缘复旧职林黛玉抛父进京都却说雨村忙回头看时，不是别人，乃是当日同僚一案参革的号...     86  "
      ]
     },
     "execution_count": 45,
     "metadata": {},
     "output_type": "execute_result"
    }
   ],
   "source": [
    "para_txt = []\n",
    "for i in range(chap_info.shape[0]):\n",
    "    t = df['text'][chap_info['start'][i]:(chap_info['start'][i]+chap_info['para_count'][i])]\n",
    "    t = \"\".join(list(t))\n",
    "    para_txt.append(t)\n",
    "#para_txt\n",
    "chap_info['para_txt'] = para_txt\n",
    "chap_info['words'] = chap_info['para_txt'].str.len()\n",
    "chap_info                                    "
   ]
  },
  {
   "cell_type": "markdown",
   "id": "739a9e05-394f-4c65-adef-dccafa054976",
   "metadata": {},
   "source": [
    "可视化各个段落的字数和段落数"
   ]
  },
  {
   "cell_type": "code",
   "execution_count": 48,
   "id": "f03e6f8a-232b-48a6-9f27-54f907fe74d2",
   "metadata": {},
   "outputs": [
    {
     "data": {
      "image/png": "[encoded data removed]",
      "text/plain": [
       "<Figure size 640x480 with 2 Axes>"
      ]
     },
     "metadata": {},
     "output_type": "display_data"
    }
   ],
   "source": [
    "plt.rcParams[\"font.sans-serif\"]=\"SimHei\"\n",
    "plt.subplot(121)\n",
    "plt.plot(chap_info['para_count'])\n",
    "plt.xticks(range(3),chap_info['chap_No'])\n",
    "plt.subplot(122)\n",
    "plt.plot(chap_info['words'])\n",
    "plt.xticks(range(3),chap_info['chap_No'])\n",
    "plt.show()\n",
    "                   "
   ]
  }
 ],
 "metadata": {
  "kernelspec": {
   "display_name": "base",
   "language": "python",
   "name": "python3"
  },
  "language_info": {
   "codemirror_mode": {
    "name": "ipython",
    "version": 3
   },
   "file_extension": ".py",
   "mimetype": "text/x-python",
   "name": "python",
   "nbconvert_exporter": "python",
   "pygments_lexer": "ipython3",
   "version": "3.7.4"
  },
  "vscode": {
   "interpreter": {
    "hash": "5179d32cf6ec497baf3f8a3ef987cc77c5d2dc691fdde20a56316522f61a7323"
   }
  }
 },
 "nbformat": 4,
 "nbformat_minor": 5
}
