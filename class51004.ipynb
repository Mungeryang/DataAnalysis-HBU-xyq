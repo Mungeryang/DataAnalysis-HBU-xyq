{
 "cells": [
  {
   "cell_type": "markdown",
   "source": [
    "常用的数值转换函数:\n",
    "df[列].astype(数值类型)\n",
    "数据类型查看：\n",
    "df[列].dtype"
   ],
   "metadata": {
    "collapsed": false
   }
  },
  {
   "cell_type": "code",
   "execution_count": 8,
   "metadata": {
    "collapsed": true
   },
   "outputs": [],
   "source": [
    "import numpy as np\n",
    "import pandas as pd\n",
    "from scipy.spatial import distance_matrix\n",
    "from sklearn.metrics.pairwise import pairwise_distances"
   ]
  },
  {
   "cell_type": "markdown",
   "source": [
    "数据的抽取\n",
    "1.切片抽取\n",
    "2.记录抽取"
   ],
   "metadata": {
    "collapsed": false
   }
  },
  {
   "cell_type": "code",
   "execution_count": 2,
   "outputs": [
    {
     "data": {
      "text/plain": "0       1室0厅\n1       3室0厅\n2       1室1厅\n3       2室1厅\n4       1室1厅\n        ... \n6994    3室2厅\n6995    3室2厅\n6996    2室1厅\n6997    1室1厅\n6998    2室1厅\nName: 户型, Length: 6999, dtype: object"
     },
     "execution_count": 2,
     "metadata": {},
     "output_type": "execute_result"
    }
   ],
   "source": [
    "df = pd.read_csv(\"zfsj.csv\")\n",
    "df['户型']"
   ],
   "metadata": {
    "collapsed": false,
    "pycharm": {
     "name": "#%%\n"
    }
   }
  },
  {
   "cell_type": "markdown",
   "source": [
    "方法一：\n",
    "获取某些行和列的索引\n",
    "df.loc[行索引，列索引]\n",
    "获取一行：\n",
    "loc[行号]/loc[行号1：行号n,列名字1：列名字n]\n",
    "获取一列：\n",
    "loc[:,列名字]\n",
    "方法2：\n",
    "df.iloc[]\n",
    "区别：不区别行和列全是数字索引\n",
    "iloc[行号1：行号n,列号1：列号n];索引区间->左闭右开\n",
    "df.iloc[[],[]]多行多列"
   ],
   "metadata": {
    "collapsed": false
   }
  },
  {
   "cell_type": "markdown",
   "source": [
    "插入操作\n",
    "插入一行：\n",
    "df.loc[行数] = [....]直接追加\n",
    "插入多行：\n",
    "df.append(df3,ignore_index = True)生成一个新的，不是df2\n",
    "\n",
    "合并函数：\n",
    "concat(objs,ignore_index):\n",
    "objs:需要合并的两个dataframe,写在元组或者列表中\n",
    "ignore_index：默认为False，不忽略索引，仍然用自己的索引；TRUE为新的索引\n",
    "用法:pd.concat()\n",
    "merge(left,right,left_on,right_on):\n",
    "left_on:依赖左\n",
    "right_on:依赖右\n",
    "on:直接选取共同的列名。\n",
    "\n",
    "join\n",
    "\n"
   ],
   "metadata": {
    "collapsed": false
   }
  },
  {
   "cell_type": "code",
   "execution_count": 3,
   "outputs": [
    {
     "data": {
      "text/plain": "   a  b\n0  5  7\n1  6  8\n2  5  7\n3  6  8",
      "text/html": "<div>\n<style scoped>\n    .dataframe tbody tr th:only-of-type {\n        vertical-align: middle;\n    }\n\n    .dataframe tbody tr th {\n        vertical-align: top;\n    }\n\n    .dataframe thead th {\n        text-align: right;\n    }\n</style>\n<table border=\"1\" class=\"dataframe\">\n  <thead>\n    <tr style=\"text-align: right;\">\n      <th></th>\n      <th>a</th>\n      <th>b</th>\n    </tr>\n  </thead>\n  <tbody>\n    <tr>\n      <td>0</td>\n      <td>5</td>\n      <td>7</td>\n    </tr>\n    <tr>\n      <td>1</td>\n      <td>6</td>\n      <td>8</td>\n    </tr>\n    <tr>\n      <td>2</td>\n      <td>5</td>\n      <td>7</td>\n    </tr>\n    <tr>\n      <td>3</td>\n      <td>6</td>\n      <td>8</td>\n    </tr>\n  </tbody>\n</table>\n</div>"
     },
     "execution_count": 3,
     "metadata": {},
     "output_type": "execute_result"
    }
   ],
   "source": [
    "df1 = pd.DataFrame({'a':[5,6],'b':[7,8]})\n",
    "df2 = pd.DataFrame({'a':[5,6],'b':[7,8]})\n",
    "df3 = pd.concat([df1,df2],ignore_index=True)\n",
    "df3"
   ],
   "metadata": {
    "collapsed": false,
    "pycharm": {
     "name": "#%%\n"
    }
   }
  },
  {
   "cell_type": "markdown",
   "source": [
    "数据的分段分组\n",
    "cut(x,bins,right = True,lables = None)\n",
    "x是数据\n",
    "bins:分组依据\n",
    "right:是否包含右端值\n",
    "\n",
    "df.列.value_counts()\n",
    "统计结果为Series\n",
    "# 转化为百分比并保留两位小数\n",
    "print('百分比：{:.2%}'.format(0.555555))"
   ],
   "metadata": {
    "collapsed": false
   }
  },
  {
   "cell_type": "code",
   "execution_count": 4,
   "outputs": [
    {
     "data": {
      "text/plain": "            学号  专业    英语  体育    军训    数分   高代  解几\n0   2308024241  统计  76.0  78  77.0  40.0   23  60\n1   2308024244  统计  66.0  91  89.0  47.0   47  44\n2   2308024251  金融   0.0  81  75.0  90.0   45  60\n3   2308024249  金融  78.0  50   0.0  72.0   62  71\n4   2308024433  金融  73.0  88  92.0  61.0   79  46\n5   2308024201  统计  60.0  60  89.0   0.0   76  71\n6   2308024347  金融  67.0  61  84.0  60.0   65  78\n7   2308024251  金融  76.0  79  86.0  69.0   90  69\n8   2308024326  统计  66.0  67  85.0  65.0  100  71\n9   2308024433  金融  79.0  76  77.0  78.0   70  70\n10  2308024428  统计   0.0  96  91.0  69.0   60  77",
      "text/html": "<div>\n<style scoped>\n    .dataframe tbody tr th:only-of-type {\n        vertical-align: middle;\n    }\n\n    .dataframe tbody tr th {\n        vertical-align: top;\n    }\n\n    .dataframe thead th {\n        text-align: right;\n    }\n</style>\n<table border=\"1\" class=\"dataframe\">\n  <thead>\n    <tr style=\"text-align: right;\">\n      <th></th>\n      <th>学号</th>\n      <th>专业</th>\n      <th>英语</th>\n      <th>体育</th>\n      <th>军训</th>\n      <th>数分</th>\n      <th>高代</th>\n      <th>解几</th>\n    </tr>\n  </thead>\n  <tbody>\n    <tr>\n      <td>0</td>\n      <td>2308024241</td>\n      <td>统计</td>\n      <td>76.0</td>\n      <td>78</td>\n      <td>77.0</td>\n      <td>40.0</td>\n      <td>23</td>\n      <td>60</td>\n    </tr>\n    <tr>\n      <td>1</td>\n      <td>2308024244</td>\n      <td>统计</td>\n      <td>66.0</td>\n      <td>91</td>\n      <td>89.0</td>\n      <td>47.0</td>\n      <td>47</td>\n      <td>44</td>\n    </tr>\n    <tr>\n      <td>2</td>\n      <td>2308024251</td>\n      <td>金融</td>\n      <td>0.0</td>\n      <td>81</td>\n      <td>75.0</td>\n      <td>90.0</td>\n      <td>45</td>\n      <td>60</td>\n    </tr>\n    <tr>\n      <td>3</td>\n      <td>2308024249</td>\n      <td>金融</td>\n      <td>78.0</td>\n      <td>50</td>\n      <td>0.0</td>\n      <td>72.0</td>\n      <td>62</td>\n      <td>71</td>\n    </tr>\n    <tr>\n      <td>4</td>\n      <td>2308024433</td>\n      <td>金融</td>\n      <td>73.0</td>\n      <td>88</td>\n      <td>92.0</td>\n      <td>61.0</td>\n      <td>79</td>\n      <td>46</td>\n    </tr>\n    <tr>\n      <td>5</td>\n      <td>2308024201</td>\n      <td>统计</td>\n      <td>60.0</td>\n      <td>60</td>\n      <td>89.0</td>\n      <td>0.0</td>\n      <td>76</td>\n      <td>71</td>\n    </tr>\n    <tr>\n      <td>6</td>\n      <td>2308024347</td>\n      <td>金融</td>\n      <td>67.0</td>\n      <td>61</td>\n      <td>84.0</td>\n      <td>60.0</td>\n      <td>65</td>\n      <td>78</td>\n    </tr>\n    <tr>\n      <td>7</td>\n      <td>2308024251</td>\n      <td>金融</td>\n      <td>76.0</td>\n      <td>79</td>\n      <td>86.0</td>\n      <td>69.0</td>\n      <td>90</td>\n      <td>69</td>\n    </tr>\n    <tr>\n      <td>8</td>\n      <td>2308024326</td>\n      <td>统计</td>\n      <td>66.0</td>\n      <td>67</td>\n      <td>85.0</td>\n      <td>65.0</td>\n      <td>100</td>\n      <td>71</td>\n    </tr>\n    <tr>\n      <td>9</td>\n      <td>2308024433</td>\n      <td>金融</td>\n      <td>79.0</td>\n      <td>76</td>\n      <td>77.0</td>\n      <td>78.0</td>\n      <td>70</td>\n      <td>70</td>\n    </tr>\n    <tr>\n      <td>10</td>\n      <td>2308024428</td>\n      <td>统计</td>\n      <td>0.0</td>\n      <td>96</td>\n      <td>91.0</td>\n      <td>69.0</td>\n      <td>60</td>\n      <td>77</td>\n    </tr>\n  </tbody>\n</table>\n</div>"
     },
     "execution_count": 4,
     "metadata": {},
     "output_type": "execute_result"
    }
   ],
   "source": [
    "#读取数据\n",
    "df=pd.read_csv(\"clear-s.txt\",sep=\"\\t\",index_col=False,encoding='utf-8')\n",
    "df.drop_duplicates(inplace=True)\n",
    "df['英语'] = df['英语'].fillna(0)\n",
    "df['军训'] = df['军训'].fillna(0)\n",
    "df['英语'] = df['英语'].astype(\"float\")\n",
    "df['军训']= df['军训'].astype(\"float\")\n",
    "df.replace('缺考',0,inplace=True)\n",
    "df['数分']= df['数分'].astype(\"float\")\n",
    "df.replace(102,100,inplace=True)\n",
    "df.replace(-50.0,0.0,inplace=True)\n",
    "df"
   ],
   "metadata": {
    "collapsed": false,
    "pycharm": {
     "name": "#%%\n"
    }
   }
  },
  {
   "cell_type": "markdown",
   "source": [],
   "metadata": {
    "collapsed": false
   }
  },
  {
   "cell_type": "code",
   "execution_count": 5,
   "outputs": [
    {
     "data": {
      "text/plain": "优秀     11\n及格      5\n不及格     1\nName: 成绩等级, dtype: int64"
     },
     "execution_count": 5,
     "metadata": {},
     "output_type": "execute_result"
    }
   ],
   "source": [
    "score1=pd.read_csv('score_1.txt',sep='\\t',index_col=False,encoding='utf-8')\n",
    "score2=pd.read_csv('score_2.txt',sep='\\t',index_col=False,encoding='utf-8')\n",
    "score3 = pd.concat([score1,score2],ignore_index=True)\n",
    "score3.drop_duplicates('学号',inplace=True)\n",
    "score3 = score3.fillna(0)\n",
    "#切割\n",
    "score3['班级'] = \"05\"\n",
    "score3['总成绩'] = score3['平时成绩']*0.3 + score3['考试成绩']*0.7\n",
    "# bins = [-1,59,84,100]\n",
    "pd.cut(score3['总成绩'],bins=[-1,59,84,100])\n",
    "score3['成绩等级'] = pd.cut(score3['总成绩'],bins=[-1,59,84,100],labels=['不及格','及格','优秀'])\n",
    "score3['成绩等级'].value_counts()\n",
    "# score3.head(5)"
   ],
   "metadata": {
    "collapsed": false,
    "pycharm": {
     "name": "#%%\n"
    }
   }
  },
  {
   "cell_type": "code",
   "execution_count": 6,
   "outputs": [
    {
     "data": {
      "text/plain": "           学号   平时成绩   考试成绩  班级    总成绩 成绩等级\n0   202105001   80.0   92.0  05   88.4   优秀\n1   202105002   80.0   87.0  05   84.9   优秀\n2   202105003   80.0   85.0  05   83.5   及格\n3   202105004  100.0   92.0  05   94.4   优秀\n4   202105005  100.0   92.0  05   94.4   优秀\n5   202105006  100.0  100.0  05  100.0   优秀\n6   202105007    0.0  100.0  05   70.0   及格\n7   202105008   80.0   95.0  05   90.5   优秀\n8   202105009   80.0   87.0  05   84.9   优秀\n9   202105010   80.0   72.0  05   74.4   及格\n10  202105011   60.0    0.0  05   18.0  不及格\n11  202105012   80.0   95.0  05   90.5   优秀\n12  202105013   80.0   85.0  05   83.5   及格\n14  202105015   80.0  100.0  05   94.0   优秀\n16  202105017   80.0   92.0  05   88.4   优秀\n17  202105018   80.0  100.0  05   94.0   优秀\n19  202105020   60.0   67.0  05   64.9   及格",
      "text/html": "<div>\n<style scoped>\n    .dataframe tbody tr th:only-of-type {\n        vertical-align: middle;\n    }\n\n    .dataframe tbody tr th {\n        vertical-align: top;\n    }\n\n    .dataframe thead th {\n        text-align: right;\n    }\n</style>\n<table border=\"1\" class=\"dataframe\">\n  <thead>\n    <tr style=\"text-align: right;\">\n      <th></th>\n      <th>学号</th>\n      <th>平时成绩</th>\n      <th>考试成绩</th>\n      <th>班级</th>\n      <th>总成绩</th>\n      <th>成绩等级</th>\n    </tr>\n  </thead>\n  <tbody>\n    <tr>\n      <td>0</td>\n      <td>202105001</td>\n      <td>80.0</td>\n      <td>92.0</td>\n      <td>05</td>\n      <td>88.4</td>\n      <td>优秀</td>\n    </tr>\n    <tr>\n      <td>1</td>\n      <td>202105002</td>\n      <td>80.0</td>\n      <td>87.0</td>\n      <td>05</td>\n      <td>84.9</td>\n      <td>优秀</td>\n    </tr>\n    <tr>\n      <td>2</td>\n      <td>202105003</td>\n      <td>80.0</td>\n      <td>85.0</td>\n      <td>05</td>\n      <td>83.5</td>\n      <td>及格</td>\n    </tr>\n    <tr>\n      <td>3</td>\n      <td>202105004</td>\n      <td>100.0</td>\n      <td>92.0</td>\n      <td>05</td>\n      <td>94.4</td>\n      <td>优秀</td>\n    </tr>\n    <tr>\n      <td>4</td>\n      <td>202105005</td>\n      <td>100.0</td>\n      <td>92.0</td>\n      <td>05</td>\n      <td>94.4</td>\n      <td>优秀</td>\n    </tr>\n    <tr>\n      <td>5</td>\n      <td>202105006</td>\n      <td>100.0</td>\n      <td>100.0</td>\n      <td>05</td>\n      <td>100.0</td>\n      <td>优秀</td>\n    </tr>\n    <tr>\n      <td>6</td>\n      <td>202105007</td>\n      <td>0.0</td>\n      <td>100.0</td>\n      <td>05</td>\n      <td>70.0</td>\n      <td>及格</td>\n    </tr>\n    <tr>\n      <td>7</td>\n      <td>202105008</td>\n      <td>80.0</td>\n      <td>95.0</td>\n      <td>05</td>\n      <td>90.5</td>\n      <td>优秀</td>\n    </tr>\n    <tr>\n      <td>8</td>\n      <td>202105009</td>\n      <td>80.0</td>\n      <td>87.0</td>\n      <td>05</td>\n      <td>84.9</td>\n      <td>优秀</td>\n    </tr>\n    <tr>\n      <td>9</td>\n      <td>202105010</td>\n      <td>80.0</td>\n      <td>72.0</td>\n      <td>05</td>\n      <td>74.4</td>\n      <td>及格</td>\n    </tr>\n    <tr>\n      <td>10</td>\n      <td>202105011</td>\n      <td>60.0</td>\n      <td>0.0</td>\n      <td>05</td>\n      <td>18.0</td>\n      <td>不及格</td>\n    </tr>\n    <tr>\n      <td>11</td>\n      <td>202105012</td>\n      <td>80.0</td>\n      <td>95.0</td>\n      <td>05</td>\n      <td>90.5</td>\n      <td>优秀</td>\n    </tr>\n    <tr>\n      <td>12</td>\n      <td>202105013</td>\n      <td>80.0</td>\n      <td>85.0</td>\n      <td>05</td>\n      <td>83.5</td>\n      <td>及格</td>\n    </tr>\n    <tr>\n      <td>14</td>\n      <td>202105015</td>\n      <td>80.0</td>\n      <td>100.0</td>\n      <td>05</td>\n      <td>94.0</td>\n      <td>优秀</td>\n    </tr>\n    <tr>\n      <td>16</td>\n      <td>202105017</td>\n      <td>80.0</td>\n      <td>92.0</td>\n      <td>05</td>\n      <td>88.4</td>\n      <td>优秀</td>\n    </tr>\n    <tr>\n      <td>17</td>\n      <td>202105018</td>\n      <td>80.0</td>\n      <td>100.0</td>\n      <td>05</td>\n      <td>94.0</td>\n      <td>优秀</td>\n    </tr>\n    <tr>\n      <td>19</td>\n      <td>202105020</td>\n      <td>60.0</td>\n      <td>67.0</td>\n      <td>05</td>\n      <td>64.9</td>\n      <td>及格</td>\n    </tr>\n  </tbody>\n</table>\n</div>"
     },
     "execution_count": 6,
     "metadata": {},
     "output_type": "execute_result"
    }
   ],
   "source": [
    "score3['班级'] = \"05\"\n",
    "score3"
   ],
   "metadata": {
    "collapsed": false,
    "pycharm": {
     "name": "#%%\n"
    }
   }
  },
  {
   "cell_type": "code",
   "execution_count": 7,
   "outputs": [],
   "source": [
    "from scipy.spatial import distance_matrix\n",
    "a = np.zeros((3, 2))\n",
    "b = np.ones((4, 2))\n",
    "\n",
    "# distance_matrix(a,b)"
   ],
   "metadata": {
    "collapsed": false,
    "pycharm": {
     "name": "#%%\n"
    }
   }
  },
  {
   "cell_type": "code",
   "execution_count": 12,
   "outputs": [
    {
     "data": {
      "text/plain": "array([[ 0.        , 25.61249695, 25.61249695, 43.8178046 , 43.8178046 ],\n       [25.61249695,  0.        ,  5.65685425, 48.49742261, 48.49742261],\n       [25.61249695,  5.65685425,  0.        , 48.49742261, 48.49742261],\n       [43.8178046 , 48.49742261, 48.49742261,  0.        , 28.28427125],\n       [43.8178046 , 48.49742261, 48.49742261, 28.28427125,  0.        ]])"
     },
     "execution_count": 12,
     "metadata": {},
     "output_type": "execute_result"
    }
   ],
   "source": [
    "\n",
    "from scipy.spatial import distance_matrix\n",
    "from sklearn.metrics.pairwise import pairwise_distances\n",
    "distance_1 = [\n",
    "    [0,16,16,28,28],\n",
    "    [16,0,4,28,28],\n",
    "    [16,4,0,28,28],\n",
    "    [28,28,28,0,20],\n",
    "    [28,28,28,20,0]\n",
    "]\n",
    "distance_2 = [\n",
    "    [0,16,16,28,28],\n",
    "    [16,0,4,28,28],\n",
    "    [16,4,0,28,28],\n",
    "    [28,28,28,0,20],\n",
    "    [28,28,28,20,0]\n",
    "]\n",
    "pairwise_distances(distance_1,distance_2)\n",
    "distance_matrix(distance_1,distance_2)"
   ],
   "metadata": {
    "collapsed": false,
    "pycharm": {
     "name": "#%%\n"
    }
   }
  }
 ],
 "metadata": {
  "kernelspec": {
   "display_name": "Python 3",
   "language": "python",
   "name": "python3"
  },
  "language_info": {
   "codemirror_mode": {
    "name": "ipython",
    "version": 2
   },
   "file_extension": ".py",
   "mimetype": "text/x-python",
   "name": "python",
   "nbconvert_exporter": "python",
   "pygments_lexer": "ipython2",
   "version": "2.7.6"
  }
 },
 "nbformat": 4,
 "nbformat_minor": 0
}