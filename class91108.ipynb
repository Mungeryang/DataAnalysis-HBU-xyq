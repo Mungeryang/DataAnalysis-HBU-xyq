{
 "cells": [
  {
   "cell_type": "code",
   "execution_count": 1,
   "metadata": {
    "collapsed": true
   },
   "outputs": [],
   "source": [
    "import numpy as np\n",
    "import pandas as pd\n",
    "import matplotlib.pyplot as plt\n",
    "import seaborn as sns"
   ]
  },
  {
   "cell_type": "code",
   "execution_count": 9,
   "outputs": [
    {
     "data": {
      "text/plain": "       Country  Year Continent  Least Developed  Life Expectancy  Population  \\\n0      Albania  2000    Europe            False           73.955     3089027   \n1      Albania  2001    Europe            False           74.288     3060173   \n2      Albania  2002    Europe            False           74.579     3051010   \n3      Albania  2003    Europe            False           74.828     3039616   \n4      Albania  2004    Europe            False           75.039     3026939   \n...        ...   ...       ...              ...              ...         ...   \n1899  Zimbabwe  2011    Africa            False           52.896    12894323   \n1900  Zimbabwe  2012    Africa            False           55.032    13115149   \n1901  Zimbabwe  2013    Africa            False           56.897    13350378   \n1902  Zimbabwe  2014    Africa            False           58.410    13586710   \n1903  Zimbabwe  2015    Africa            False           59.534    13814642   \n\n      CO2 emissions  Health expenditure  Electric power consumption  \\\n0          1.026213            7.233370                 1414.703784   \n1          1.055496            7.139524                 1449.647413   \n2          1.232379            6.909341                 1351.230796   \n3          1.338985            7.063490                 1578.165919   \n4          1.404059            6.773372                 1469.264539   \n...             ...                 ...                         ...   \n1899       0.884886            8.081738                  606.643960   \n1900       0.915735            6.918354                  636.248991   \n1901       0.919824            7.110148                  608.761669   \n1902       0.889104            8.133525                  628.746242   \n1903       0.899770            7.452066                  609.124652   \n\n      Forest area  GDP per capita  Individuals using the Internet  \\\n0       28.076642     3860.804627                        0.114097   \n1       28.123248     4299.546493                        0.325798   \n2       28.169854     4661.402695                        0.390081   \n3       28.216460     5000.049363                        0.971900   \n4       28.263066     5427.732662                        2.420388   \n...           ...             ...                             ...   \n1899    46.165723     2101.824051                        8.400000   \n1900    46.046633     2375.927006                       12.000000   \n1901    45.927543     2560.773267                       15.500000   \n1902    45.808453     2612.455954                       16.364740   \n1903    45.689363     2679.507615                       22.742818   \n\n      Military expenditure  People practicing open defecation  \\\n0                 1.246360                           0.888853   \n1                 1.309291                           0.836397   \n2                 1.320034                           0.781899   \n3                 1.336843                           0.728191   \n4                 1.381158                           0.675281   \n...                    ...                                ...   \n1899              1.407162                          26.876148   \n1900              1.859609                          26.533231   \n1901              1.868420                          26.188786   \n1902              1.888080                          25.832157   \n1903              1.886876                          25.463272   \n\n      People using at least basic drinking water services  \\\n0                                             86.754471     \n1                                             86.904070     \n2                                             87.451635     \n3                                             87.987194     \n4                                             88.510583     \n...                                                 ...     \n1899                                          67.016076     \n1900                                          66.491185     \n1901                                          65.966474     \n1902                                          65.454108     \n1903                                          64.954929     \n\n      Obesity among adults  Beer consumption per capita  \n0                     12.8                      1.33431  \n1                     13.3                      1.48995  \n2                     13.9                      1.28697  \n3                     14.4                      1.44830  \n4                     15.0                      1.37617  \n...                    ...                          ...  \n1899                  10.8                      2.05000  \n1900                  11.1                      2.07000  \n1901                  11.3                      2.12000  \n1902                  11.6                      2.23000  \n1903                  11.9                      1.93000  \n\n[1904 rows x 17 columns]",
      "text/html": "<div>\n<style scoped>\n    .dataframe tbody tr th:only-of-type {\n        vertical-align: middle;\n    }\n\n    .dataframe tbody tr th {\n        vertical-align: top;\n    }\n\n    .dataframe thead th {\n        text-align: right;\n    }\n</style>\n<table border=\"1\" class=\"dataframe\">\n  <thead>\n    <tr style=\"text-align: right;\">\n      <th></th>\n      <th>Country</th>\n      <th>Year</th>\n      <th>Continent</th>\n      <th>Least Developed</th>\n      <th>Life Expectancy</th>\n      <th>Population</th>\n      <th>CO2 emissions</th>\n      <th>Health expenditure</th>\n      <th>Electric power consumption</th>\n      <th>Forest area</th>\n      <th>GDP per capita</th>\n      <th>Individuals using the Internet</th>\n      <th>Military expenditure</th>\n      <th>People practicing open defecation</th>\n      <th>People using at least basic drinking water services</th>\n      <th>Obesity among adults</th>\n      <th>Beer consumption per capita</th>\n    </tr>\n  </thead>\n  <tbody>\n    <tr>\n      <th>0</th>\n      <td>Albania</td>\n      <td>2000</td>\n      <td>Europe</td>\n      <td>False</td>\n      <td>73.955</td>\n      <td>3089027</td>\n      <td>1.026213</td>\n      <td>7.233370</td>\n      <td>1414.703784</td>\n      <td>28.076642</td>\n      <td>3860.804627</td>\n      <td>0.114097</td>\n      <td>1.246360</td>\n      <td>0.888853</td>\n      <td>86.754471</td>\n      <td>12.8</td>\n      <td>1.33431</td>\n    </tr>\n    <tr>\n      <th>1</th>\n      <td>Albania</td>\n      <td>2001</td>\n      <td>Europe</td>\n      <td>False</td>\n      <td>74.288</td>\n      <td>3060173</td>\n      <td>1.055496</td>\n      <td>7.139524</td>\n      <td>1449.647413</td>\n      <td>28.123248</td>\n      <td>4299.546493</td>\n      <td>0.325798</td>\n      <td>1.309291</td>\n      <td>0.836397</td>\n      <td>86.904070</td>\n      <td>13.3</td>\n      <td>1.48995</td>\n    </tr>\n    <tr>\n      <th>2</th>\n      <td>Albania</td>\n      <td>2002</td>\n      <td>Europe</td>\n      <td>False</td>\n      <td>74.579</td>\n      <td>3051010</td>\n      <td>1.232379</td>\n      <td>6.909341</td>\n      <td>1351.230796</td>\n      <td>28.169854</td>\n      <td>4661.402695</td>\n      <td>0.390081</td>\n      <td>1.320034</td>\n      <td>0.781899</td>\n      <td>87.451635</td>\n      <td>13.9</td>\n      <td>1.28697</td>\n    </tr>\n    <tr>\n      <th>3</th>\n      <td>Albania</td>\n      <td>2003</td>\n      <td>Europe</td>\n      <td>False</td>\n      <td>74.828</td>\n      <td>3039616</td>\n      <td>1.338985</td>\n      <td>7.063490</td>\n      <td>1578.165919</td>\n      <td>28.216460</td>\n      <td>5000.049363</td>\n      <td>0.971900</td>\n      <td>1.336843</td>\n      <td>0.728191</td>\n      <td>87.987194</td>\n      <td>14.4</td>\n      <td>1.44830</td>\n    </tr>\n    <tr>\n      <th>4</th>\n      <td>Albania</td>\n      <td>2004</td>\n      <td>Europe</td>\n      <td>False</td>\n      <td>75.039</td>\n      <td>3026939</td>\n      <td>1.404059</td>\n      <td>6.773372</td>\n      <td>1469.264539</td>\n      <td>28.263066</td>\n      <td>5427.732662</td>\n      <td>2.420388</td>\n      <td>1.381158</td>\n      <td>0.675281</td>\n      <td>88.510583</td>\n      <td>15.0</td>\n      <td>1.37617</td>\n    </tr>\n    <tr>\n      <th>...</th>\n      <td>...</td>\n      <td>...</td>\n      <td>...</td>\n      <td>...</td>\n      <td>...</td>\n      <td>...</td>\n      <td>...</td>\n      <td>...</td>\n      <td>...</td>\n      <td>...</td>\n      <td>...</td>\n      <td>...</td>\n      <td>...</td>\n      <td>...</td>\n      <td>...</td>\n      <td>...</td>\n      <td>...</td>\n    </tr>\n    <tr>\n      <th>1899</th>\n      <td>Zimbabwe</td>\n      <td>2011</td>\n      <td>Africa</td>\n      <td>False</td>\n      <td>52.896</td>\n      <td>12894323</td>\n      <td>0.884886</td>\n      <td>8.081738</td>\n      <td>606.643960</td>\n      <td>46.165723</td>\n      <td>2101.824051</td>\n      <td>8.400000</td>\n      <td>1.407162</td>\n      <td>26.876148</td>\n      <td>67.016076</td>\n      <td>10.8</td>\n      <td>2.05000</td>\n    </tr>\n    <tr>\n      <th>1900</th>\n      <td>Zimbabwe</td>\n      <td>2012</td>\n      <td>Africa</td>\n      <td>False</td>\n      <td>55.032</td>\n      <td>13115149</td>\n      <td>0.915735</td>\n      <td>6.918354</td>\n      <td>636.248991</td>\n      <td>46.046633</td>\n      <td>2375.927006</td>\n      <td>12.000000</td>\n      <td>1.859609</td>\n      <td>26.533231</td>\n      <td>66.491185</td>\n      <td>11.1</td>\n      <td>2.07000</td>\n    </tr>\n    <tr>\n      <th>1901</th>\n      <td>Zimbabwe</td>\n      <td>2013</td>\n      <td>Africa</td>\n      <td>False</td>\n      <td>56.897</td>\n      <td>13350378</td>\n      <td>0.919824</td>\n      <td>7.110148</td>\n      <td>608.761669</td>\n      <td>45.927543</td>\n      <td>2560.773267</td>\n      <td>15.500000</td>\n      <td>1.868420</td>\n      <td>26.188786</td>\n      <td>65.966474</td>\n      <td>11.3</td>\n      <td>2.12000</td>\n    </tr>\n    <tr>\n      <th>1902</th>\n      <td>Zimbabwe</td>\n      <td>2014</td>\n      <td>Africa</td>\n      <td>False</td>\n      <td>58.410</td>\n      <td>13586710</td>\n      <td>0.889104</td>\n      <td>8.133525</td>\n      <td>628.746242</td>\n      <td>45.808453</td>\n      <td>2612.455954</td>\n      <td>16.364740</td>\n      <td>1.888080</td>\n      <td>25.832157</td>\n      <td>65.454108</td>\n      <td>11.6</td>\n      <td>2.23000</td>\n    </tr>\n    <tr>\n      <th>1903</th>\n      <td>Zimbabwe</td>\n      <td>2015</td>\n      <td>Africa</td>\n      <td>False</td>\n      <td>59.534</td>\n      <td>13814642</td>\n      <td>0.899770</td>\n      <td>7.452066</td>\n      <td>609.124652</td>\n      <td>45.689363</td>\n      <td>2679.507615</td>\n      <td>22.742818</td>\n      <td>1.886876</td>\n      <td>25.463272</td>\n      <td>64.954929</td>\n      <td>11.9</td>\n      <td>1.93000</td>\n    </tr>\n  </tbody>\n</table>\n<p>1904 rows × 17 columns</p>\n</div>"
     },
     "execution_count": 9,
     "metadata": {},
     "output_type": "execute_result"
    }
   ],
   "source": [
    "df = pd.read_csv(\"Life_Expectancy.csv\",index_col=False)\n",
    "df"
   ],
   "metadata": {
    "collapsed": false,
    "pycharm": {
     "name": "#%%\n"
    }
   }
  }
 ],
 "metadata": {
  "kernelspec": {
   "display_name": "Python 3",
   "language": "python",
   "name": "python3"
  },
  "language_info": {
   "codemirror_mode": {
    "name": "ipython",
    "version": 2
   },
   "file_extension": ".py",
   "mimetype": "text/x-python",
   "name": "python",
   "nbconvert_exporter": "python",
   "pygments_lexer": "ipython2",
   "version": "2.7.6"
  }
 },
 "nbformat": 4,
 "nbformat_minor": 0
}