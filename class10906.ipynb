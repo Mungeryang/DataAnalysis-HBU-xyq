{
 "cells": [
  {
   "cell_type": "code",
   "execution_count": 6,
   "metadata": {
    "collapsed": true
   },
   "outputs": [
    {
     "data": {
      "text/plain": "[2]"
     },
     "execution_count": 6,
     "metadata": {},
     "output_type": "execute_result"
    }
   ],
   "source": [
    "# map函数\n",
    "# map(func,iterable)；func是一个函数，iterable是一个可以迭代的对象\n",
    "# 遍历序列，是func对序列中每一个元素进行操作，获得一个新的序列\n",
    "\n",
    "\n",
    "# ls = [1,2,3]\n",
    "# ls1 = list(map(lambda x:x*2,ls))\n",
    "# ls1\n",
    "ls2 = list(map(eval,input(\"please input numbers:\")))\n",
    "ls2"
   ]
  },
  {
   "cell_type": "code",
   "execution_count": 10,
   "outputs": [
    {
     "data": {
      "text/plain": "['Python', 'Hello', 'world']"
     },
     "execution_count": 10,
     "metadata": {},
     "output_type": "execute_result"
    }
   ],
   "source": [
    "# split函数分词\n",
    "# 返回列表结构\n",
    "\n",
    "str = \"Python Hello world\"\n",
    "str.split()"
   ],
   "metadata": {
    "collapsed": false,
    "pycharm": {
     "name": "#%%\n"
    }
   }
  },
  {
   "cell_type": "code",
   "execution_count": 16,
   "outputs": [
    {
     "data": {
      "text/plain": "'Hello World, Ni Hao Shi Jie.'"
     },
     "execution_count": 16,
     "metadata": {},
     "output_type": "execute_result"
    }
   ],
   "source": [
    "#python对于字符串的操作\n",
    "s = \"hello World, ni hao shi jie.\"\n",
    "list_word = s.split(\" \")\n",
    "for i in range(0,len(list_word)):\n",
    "    # list_word[i].capitalize()\n",
    "    # print(list_word[i])\n",
    "    list_word[i] = list_word[i].capitalize()\n",
    "list_word\n",
    "\n",
    "#join函数拼接字符串\n",
    "s1 = \" \".join(list_word)\n",
    "s1"
   ],
   "metadata": {
    "collapsed": false,
    "pycharm": {
     "name": "#%%\n"
    }
   }
  },
  {
   "cell_type": "code",
   "execution_count": 17,
   "outputs": [
    {
     "data": {
      "text/plain": "[2, 4, 6]"
     },
     "execution_count": 17,
     "metadata": {},
     "output_type": "execute_result"
    }
   ],
   "source": [
    "# filter函数\n",
    "# filter(func,iterable),func对于序列元素筛选获取符合条件的的序列\n",
    "\n",
    "ll = [1,2,3,4,5,6]\n",
    "ls2 = list(filter(lambda x:x%2==0,ll))\n",
    "ls2"
   ],
   "metadata": {
    "collapsed": false,
    "pycharm": {
     "name": "#%%\n"
    }
   }
  },
  {
   "cell_type": "code",
   "execution_count": 1,
   "outputs": [
    {
     "data": {
      "text/plain": "[[2, 2, 3, 4], [2, 4, 4, 5], [3, 4, 8, 8], [1, 6, 4, 4]]"
     },
     "execution_count": 1,
     "metadata": {},
     "output_type": "execute_result"
    }
   ],
   "source": [
    "#pyhton对于二维数组的遍历\n",
    "arr = [\n",
    "    [1,2,3,4],\n",
    "    [2,3,4,5],\n",
    "    [3,4,7,8],\n",
    "    [1,6,4,3]\n",
    "]\n",
    "for i in range(0,len(arr)):\n",
    "    arr[i][i] = arr[i][i] + 1\n",
    "arr"
   ],
   "metadata": {
    "collapsed": false,
    "pycharm": {
     "name": "#%%\n"
    }
   }
  }
 ],
 "metadata": {
  "kernelspec": {
   "display_name": "Python 3",
   "language": "python",
   "name": "python3"
  },
  "language_info": {
   "codemirror_mode": {
    "name": "ipython",
    "version": 2
   },
   "file_extension": ".py",
   "mimetype": "text/x-python",
   "name": "python",
   "nbconvert_exporter": "python",
   "pygments_lexer": "ipython2",
   "version": "2.7.6"
  }
 },
 "nbformat": 4,
 "nbformat_minor": 0
}