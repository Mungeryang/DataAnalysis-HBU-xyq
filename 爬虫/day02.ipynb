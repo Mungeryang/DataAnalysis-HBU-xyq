{
 "cells": [
  {
   "attachments": {},
   "cell_type": "markdown",
   "metadata": {},
   "source": [
    "爬取诗词歌赋网站的特定诗句：\n",
    "https://www.shicimingju.com/book/sanguoyanyi.html\n",
    "#utf-8数据转换成ascii\n",
    "#re.encoding = re.apparent_encoding"
   ]
  },
  {
   "cell_type": "code",
   "execution_count": 63,
   "metadata": {},
   "outputs": [],
   "source": [
    "#导入第三方库\n",
    "import re\n",
    "import requests\n",
    "import urllib\n",
    "from bs4 import BeautifulSoup\n",
    "import os\n",
    "import lxml\n",
    "import jieba"
   ]
  },
  {
   "attachments": {},
   "cell_type": "markdown",
   "metadata": {},
   "source": [
    "分析一下网页结构:\n",
    "<div class=\"book-mulu\">\n",
    "<ul><li><a>目录内容</li></ul>\n",
    "</div>\n",
    "在a标签中的string中存放着每一章节对应的章节名称，需要拿到a标签即可;而网页的连接则存放在a标签中的herf中\n",
    "所以我们要再次去提取soup.a['href']去拿到网页的连接，注意字符串的拼接"
   ]
  },
  {
   "cell_type": "code",
   "execution_count": 40,
   "metadata": {},
   "outputs": [],
   "source": [
    "# 1.指定url及参数\n",
    "url = \"https://www.shicimingju.com/book/sanguoyanyi.html\"\n",
    "headers={\n",
    "    \"User-Agent\":\"Mozilla/5.0 (Windows NT 10.0; Win64; x64) AppleWebKit/537.36 (KHTML, like Gecko) Chrome/107.0.0.0 Safari/537.36\",\n",
    "    \"Cookie\":\"Hm_lvt_649f268280b553df1f778477ee743752=1670835171; Hm_lpvt_649f268280b553df1f778477ee743752=1670835528\"\n",
    "}\n",
    "# 2.发送请求\n",
    "response = requests.get(url=url,headers=headers)\n",
    "#3.获得相应数据\n",
    "#改变编码格式,解决乱码问题\n",
    "response.encoding = response.apparent_encoding \n",
    "page_text = response.text\n",
    "#解析数据\n",
    "soup = BeautifulSoup(page_text,'lxml')\n",
    "# soup.find_all(\"div\",class_=\"book-mulu\")\n",
    "name_list = soup.select(\".book-mulu > ul > li > a\")\n",
    "chap_link = soup.select(\".book-mulu > ul > li > a\")\n",
    "#数据存储\n",
    "name = [] #章节名称\n",
    "link = [] #章节详细连接\n",
    "for i in range(len(name_list)):\n",
    "    name.append(name_list[i].text)\n",
    "    link.append(\"https://www.shicimingju.com\" + name_list[i]['href'])\n"
   ]
  },
  {
   "attachments": {},
   "cell_type": "markdown",
   "metadata": {},
   "source": [
    "对于拿到的每一章节的网页连接，我们进行每一章节内容的爬取\n",
    "分析一下章节内容的网页结构：\n",
    "<div class=\"chapter_content\">下的所有<p>标签中存放着章节内容"
   ]
  },
  {
   "cell_type": "code",
   "execution_count": 65,
   "metadata": {},
   "outputs": [
    {
     "data": {
      "text/plain": [
       "str"
      ]
     },
     "execution_count": 65,
     "metadata": {},
     "output_type": "execute_result"
    }
   ],
   "source": [
    "# url1 = link[0]\n",
    "# headers={\n",
    "#     \"User-Agent\":\"Mozilla/5.0 (Windows NT 10.0; Win64; x64) AppleWebKit/537.36 (KHTML, like Gecko) Chrome/107.0.0.0 Safari/537.36\",\n",
    "#     \"Cookie\":\"Hm_lvt_649f268280b553df1f778477ee743752=1670835171; Hm_lpvt_649f268280b553df1f778477ee743752=1670835528\"\n",
    "# }\n",
    "# re = requests.get(url=url1,headers=headers)\n",
    "# re.encoding = re.apparent_encoding \n",
    "# page_text = re.text\n",
    "# soup1 = BeautifulSoup(page_text,'lxml')\n",
    "# chap = soup1.find('div',class_=\"chapter_content\").text\n",
    "# chap = chap.replace('\\u3000','')\n",
    "# chap = chap.replace('\\n                ','')\n",
    "art = []\n",
    "for i in range(3):\n",
    "    url1 = link[i]\n",
    "    headers={\n",
    "    \"User-Agent\":\"Mozilla/5.0 (Windows NT 10.0; Win64; x64) AppleWebKit/537.36 (KHTML, like Gecko) Chrome/107.0.0.0 Safari/537.36\",\n",
    "    \"Cookie\":\"Hm_lvt_649f268280b553df1f778477ee743752=1670835171; Hm_lpvt_649f268280b553df1f778477ee743752=1670835528\"}\n",
    "    re = requests.get(url=url1,headers=headers)\n",
    "    re.encoding = re.apparent_encoding \n",
    "    page_text = re.text\n",
    "    #标签定位\n",
    "    soup1 = BeautifulSoup(page_text,'lxml')\n",
    "    chap = soup1.find('div',class_=\"chapter_content\").text\n",
    "    #文本数据清洗\n",
    "    chap = chap.replace('\\u3000','')\n",
    "    chap = chap.replace('\\n                ','')\n",
    "    chap = chap.replace('\\xa0','')\n",
    "    chap = chap.replace('\\n','')\n",
    "    chap = chap.replace('\\t','')\n",
    "    chap = chap.replace('\\r','')\n",
    "    chap = chap.replace(' ','')\n",
    "    art.append(chap)\n",
    "type(chap)\n",
    " "
   ]
  }
 ],
 "metadata": {
  "kernelspec": {
   "display_name": "base",
   "language": "python",
   "name": "python3"
  },
  "language_info": {
   "codemirror_mode": {
    "name": "ipython",
    "version": 3
   },
   "file_extension": ".py",
   "mimetype": "text/x-python",
   "name": "python",
   "nbconvert_exporter": "python",
   "pygments_lexer": "ipython3",
   "version": "3.7.4"
  },
  "orig_nbformat": 4,
  "vscode": {
   "interpreter": {
    "hash": "5179d32cf6ec497baf3f8a3ef987cc77c5d2dc691fdde20a56316522f61a7323"
   }
  }
 },
 "nbformat": 4,
 "nbformat_minor": 2
}
