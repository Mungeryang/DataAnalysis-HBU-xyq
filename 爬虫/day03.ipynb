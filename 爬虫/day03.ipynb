{
 "cells": [
  {
   "attachments": {},
   "cell_type": "markdown",
   "metadata": {},
   "source": [
    "xpath的解析：\n",
    "1.运用初始化的etree对象,将被解析的网页传入到该对象中\n",
    "2.调用etree的方法和xpath表达式实现标签的定位和捕获\n",
    "如何实例化一个etree对象？\n",
    "(1)读取本地html文档：etree.parse(filename)\n",
    "(2)读取网页源码数据内容：etree.HTML(\"page_text\")"
   ]
  },
  {
   "cell_type": "code",
   "execution_count": 2,
   "metadata": {},
   "outputs": [],
   "source": [
    "import requests\n",
    "import re\n",
    "import urllib3\n",
    "from lxml import etree"
   ]
  },
  {
   "attachments": {},
   "cell_type": "markdown",
   "metadata": {},
   "source": [
    "xpath表达式：\n",
    "r = tree.xpath(\"/html/body/div\")——/html的斜杠代表从根节点开始访问 \n",
    "/html//div=/html/body/div=//div;//代表跨层级,或者任意位置定位\n",
    "属性定位：//div[@class=\"song\"]\n",
    "索引定位：//div[@class=\"song\"]/p[3];索引从1开始\n",
    "取文本：/text()取到标签下的直系文本;//text()取到标签下的所有文本\n",
    "取属性:/@属性"
   ]
  },
  {
   "cell_type": "code",
   "execution_count": 15,
   "metadata": {},
   "outputs": [
    {
     "data": {
      "text/plain": [
       "'http://www.baidu.com/meinv.jpg'"
      ]
     },
     "execution_count": 15,
     "metadata": {},
     "output_type": "execute_result"
    }
   ],
   "source": [
    "tree = etree.parse(\"./test.html\")\n",
    "#r = tree.xpath(\"/html/head/title\")\n",
    "r = tree.xpath(\"/html/body/div\")\n",
    "r = tree.xpath(\"//div\")\n",
    "r = tree.xpath('//div[@class=\"song\"]/p[3]')\n",
    "r = tree.xpath('//div[@class=\"tang\"]//li[5]/a/text()')[0]\n",
    "r = tree.xpath('//div[@class=\"song\"]/img/@src')[0]\n",
    "r\n"
   ]
  }
 ],
 "metadata": {
  "kernelspec": {
   "display_name": "base",
   "language": "python",
   "name": "python3"
  },
  "language_info": {
   "codemirror_mode": {
    "name": "ipython",
    "version": 3
   },
   "file_extension": ".py",
   "mimetype": "text/x-python",
   "name": "python",
   "nbconvert_exporter": "python",
   "pygments_lexer": "ipython3",
   "version": "3.7.4 (default, Aug  9 2019, 18:34:13) [MSC v.1915 64 bit (AMD64)]"
  },
  "orig_nbformat": 4,
  "vscode": {
   "interpreter": {
    "hash": "5179d32cf6ec497baf3f8a3ef987cc77c5d2dc691fdde20a56316522f61a7323"
   }
  }
 },
 "nbformat": 4,
 "nbformat_minor": 2
}
