{
 "cells": [
  {
   "cell_type": "markdown",
   "id": "bab7fed0-eb68-46d2-8d6f-58dde6608059",
   "metadata": {},
   "source": [
    "B站爬虫课程：https://www.bilibili.com/video/BV1ha4y1H7sx/?spm_id_from=333.337.search-card.all.click&vd_source=f093c3d64ba399e149cbffa6cd31a7b0\n",
    "\n",
    "爬虫：通过编写程序，模拟浏览器上网然后让其去互联网上抓取数据的过程。\n",
    "爬虫的分类：\n",
    "1.通用爬虫：抓取系统重要的组成部分，抓取一张页面数据\n",
    "2.聚焦爬虫：建立在通用爬虫基础之上，抓取页面中特定的局部内容\n",
    "3.增量式爬虫：检测网站中数据更新的情况，只会爬取最新更新出来的数据\n",
    "\n",
    "http协议：\n",
    "服务器和客户端进行交流的一种交互方式——握手、交互信息。\n",
    "常用的请求头信息：\n",
    "User-Agent:请求载体的身份表示 \n",
    "Connection:请求完毕后，是断开还是连接\n",
    "常用的响应头信息：\n",
    "Content-Type:服务器回应客户端的数据类型\n",
    "https协议：\n",
    "安全的超文本传输协议\n",
    "数据的加密方式：\n",
    "1.对秘钥的加密\n",
    "2.非对称证书的加密\n",
    "3.证书秘钥加密\n",
    "Cookie"
   ]
  },
  {
   "cell_type": "code",
   "execution_count": 9,
   "id": "f01dcd7f-ce5b-4ffb-86ee-4c8f81860570",
   "metadata": {},
   "outputs": [],
   "source": [
    "import re\n",
    "import requests\n",
    "import urllib\n",
    "from bs4 import BeautifulSoup"
   ]
  },
  {
   "cell_type": "markdown",
   "id": "9fd745d7-f48d-4d49-a74f-3b910afd7c4f",
   "metadata": {},
   "source": [
    "requests操作流程：request为通用爬虫，会爬取页面的一页数据\n",
    "1.指定url\n",
    "2.发起请求\n",
    "3.获取相应数据\n",
    "4.持久化储存\n",
    "page_data = re.text-返回utf-8形式的数据-str\n",
    "page_data = re.content-返回二进制形式的数据-bytes"
   ]
  },
  {
   "cell_type": "code",
   "execution_count": 20,
   "id": "26ff1c4b-a362-47f3-9856-40f06f1cd5f9",
   "metadata": {},
   "outputs": [
    {
     "data": {
      "text/plain": [
       "'<!DOCTYPE html>\\n<html>\\n<head>\\n<title>Access Denied</title>\\n</head>\\n<body>\\n<h1>:(</h1>\\n<p></p>\\n<hr>\\n<p>Access Denied</p>\\n</body>\\n</html>\\n'"
      ]
     },
     "execution_count": 20,
     "metadata": {},
     "output_type": "execute_result"
    }
   ],
   "source": [
    "#指定url\n",
    "url = \"https://www.sougou.com/\"\n",
    "##对于一些反爬设置User-Agent与Cookie\n",
    "\n",
    "# headers={\n",
    "#     'User-Agent':'',\n",
    "#     'Cookie':''\n",
    "# }\n",
    "#翻页爬取需要加页数参数\n",
    "# para = {\n",
    "#     kw = \n",
    "# }\n",
    "#发起请求\n",
    "re = requests.get(url=url)\n",
    "# re = request.get(url=url,headers=headers,para=para)\n",
    "\n",
    "#获取相应数据\n",
    "#page_text = re.content\n",
    "page_text = re.text\n",
    "#utf-8数据转换成ascii\n",
    "re.encoding = re.apparent_encoding\n",
    "#Beautiful解析html网页\n",
    "bs = BeautifulSoup(re.text,'html.parser')\n",
    "re.text"
   ]
  },
  {
   "cell_type": "markdown",
   "id": "7dd2d552-f62e-4821-8d5e-b22dc03df50d",
   "metadata": {},
   "source": [
    "聚焦爬虫：运用数据解析提取特定数据内容；建立在通用爬虫基础之上。\n",
    "数据解析分类：\n",
    "1.正则表达式\n",
    "2.bs4\n",
    "3.xpath（重点学习，通用性强兼容性强-scrapy）\n",
    "解析的局部文本数据都是存放在标签之间或者标签对应的属性中进行存储\n",
    "1.首先对标签进行定位2.标签或者标签对应的属性中存储的数据值进行提取\n",
    "聚焦爬虫流程：\n",
    "1.指定url\n",
    "2.发起请求\n",
    "3.获取相应数据\n",
    "4.数据解析\n",
    "5.局部数据持久化储存"
   ]
  },
  {
   "cell_type": "code",
   "execution_count": null,
   "id": "7a2e87c6-f1ad-48b4-b29c-af48e298d413",
   "metadata": {},
   "outputs": [],
   "source": []
  }
 ],
 "metadata": {
  "kernelspec": {
   "display_name": "Python 3 (ipykernel)",
   "language": "python",
   "name": "python3"
  },
  "language_info": {
   "codemirror_mode": {
    "name": "ipython",
    "version": 3
   },
   "file_extension": ".py",
   "mimetype": "text/x-python",
   "name": "python",
   "nbconvert_exporter": "python",
   "pygments_lexer": "ipython3",
   "version": "3.7.4"
  }
 },
 "nbformat": 4,
 "nbformat_minor": 5
}
