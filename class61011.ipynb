{
 "cells": [
  {
   "cell_type": "markdown",
   "source": [
    "#请仔细！！！！！\n",
    "pandas数据分析：\n",
    "    基本的数据分析\n",
    "##务必\n",
    "\n"
   ],
   "metadata": {
    "collapsed": false
   }
  },
  {
   "cell_type": "code",
   "execution_count": 2,
   "metadata": {
    "collapsed": true
   },
   "outputs": [],
   "source": [
    "import numpy as np\n",
    "import pandas as pd"
   ]
  },
  {
   "cell_type": "code",
   "execution_count": 23,
   "outputs": [
    {
     "data": {
      "text/plain": "   专业       std  median\n0  统计  5.899152      66\n1  金融  6.055301      77",
      "text/html": "<div>\n<style scoped>\n    .dataframe tbody tr th:only-of-type {\n        vertical-align: middle;\n    }\n\n    .dataframe tbody tr th {\n        vertical-align: top;\n    }\n\n    .dataframe thead th {\n        text-align: right;\n    }\n</style>\n<table border=\"1\" class=\"dataframe\">\n  <thead>\n    <tr style=\"text-align: right;\">\n      <th></th>\n      <th>专业</th>\n      <th>std</th>\n      <th>median</th>\n    </tr>\n  </thead>\n  <tbody>\n    <tr>\n      <td>0</td>\n      <td>统计</td>\n      <td>5.899152</td>\n      <td>66</td>\n    </tr>\n    <tr>\n      <td>1</td>\n      <td>金融</td>\n      <td>6.055301</td>\n      <td>77</td>\n    </tr>\n  </tbody>\n</table>\n</div>"
     },
     "execution_count": 23,
     "metadata": {},
     "output_type": "execute_result"
    }
   ],
   "source": [
    "df = pd.read_table(\"data_for_group.txt\",index_col=False,encoding=\"gbk\")\n",
    "a = df.groupby(\"专业\")[\"英语\"].agg([np.std,np.median])\n",
    "a.reset_index(inplace=True)\n",
    "a\n",
    "# df"
   ],
   "metadata": {
    "collapsed": false,
    "pycharm": {
     "name": "#%%\n"
    }
   }
  },
  {
   "cell_type": "markdown",
   "source": [
    "分组分析\n",
    "df.group(by)[['','']].func()\n",
    "by:分组依据\n",
    "[]：分析对象（多列要写咋列表当中）\n",
    "func:方法函数\n",
    "结果还是一个DataFrame\n",
    "a = df.group(by)[['','']].func()\n",
    "a.reset_index(inplace=True):更新索引,使用方便\n",
    "\n",
    "列名可以省略，就是统计所有列\n",
    "列太多，先切片操作列\n",
    "\n",
    "agg统计函数\n",
    "agg(func,axis)\n",
    "agg中调用的函数没有（）->max而不是max()\n",
    "func：统计函数\n",
    "axis：轴->0跨行（默认），1跨列\n",
    "a = df.group(by)[['','']].max()\n",
    "a = df.group(by)[['','']].agg(max)\n",
    "二者等价\n"
   ],
   "metadata": {
    "collapsed": false
   }
  },
  {
   "cell_type": "code",
   "execution_count": 20,
   "outputs": [
    {
     "data": {
      "text/plain": "      高代         解几\n专业                 \n统计  53.4  13.049904\n金融  68.5  11.219031",
      "text/html": "<div>\n<style scoped>\n    .dataframe tbody tr th:only-of-type {\n        vertical-align: middle;\n    }\n\n    .dataframe tbody tr th {\n        vertical-align: top;\n    }\n\n    .dataframe thead th {\n        text-align: right;\n    }\n</style>\n<table border=\"1\" class=\"dataframe\">\n  <thead>\n    <tr style=\"text-align: right;\">\n      <th></th>\n      <th>高代</th>\n      <th>解几</th>\n    </tr>\n    <tr>\n      <th>专业</th>\n      <th></th>\n      <th></th>\n    </tr>\n  </thead>\n  <tbody>\n    <tr>\n      <td>统计</td>\n      <td>53.4</td>\n      <td>13.049904</td>\n    </tr>\n    <tr>\n      <td>金融</td>\n      <td>68.5</td>\n      <td>11.219031</td>\n    </tr>\n  </tbody>\n</table>\n</div>"
     },
     "execution_count": 20,
     "metadata": {},
     "output_type": "execute_result"
    }
   ],
   "source": [
    "b = df.iloc[:,2:].agg([max,min])\n",
    "# b\n",
    "c = df.agg({'高代':np.mean,'解几':max})\n",
    "d = df.groupby(\"专业\")[['高代','解几']].agg({'高代':np.mean,'解几':np.std})\n",
    "d"
   ],
   "metadata": {
    "collapsed": false,
    "pycharm": {
     "name": "#%%\n"
    }
   }
  },
  {
   "cell_type": "markdown",
   "source": [
    "交叉分析"
   ],
   "metadata": {
    "collapsed": false
   }
  },
  {
   "cell_type": "code",
   "execution_count": 38,
   "outputs": [
    {
     "data": {
      "text/plain": "Int64Index([0, 2, 3, 4, 7, 9], dtype='int64')"
     },
     "execution_count": 38,
     "metadata": {},
     "output_type": "execute_result"
    }
   ],
   "source": [
    "dt = pd.read_table('data_for_pivot.txt',index_col=False,encoding=\"gbk\")\n",
    "# dt\n",
    "dt.pivot_table(values=['英语','高代'],index='专业',aggfunc=max)\n",
    "df[df['英语']>70].index"
   ],
   "metadata": {
    "collapsed": false,
    "pycharm": {
     "name": "#%%\n"
    }
   }
  },
  {
   "cell_type": "code",
   "execution_count": 36,
   "outputs": [
    {
     "data": {
      "text/plain": "   a  b  c\n0  1  3  7\n1  2  4  8",
      "text/html": "<div>\n<style scoped>\n    .dataframe tbody tr th:only-of-type {\n        vertical-align: middle;\n    }\n\n    .dataframe tbody tr th {\n        vertical-align: top;\n    }\n\n    .dataframe thead th {\n        text-align: right;\n    }\n</style>\n<table border=\"1\" class=\"dataframe\">\n  <thead>\n    <tr style=\"text-align: right;\">\n      <th></th>\n      <th>a</th>\n      <th>b</th>\n      <th>c</th>\n    </tr>\n  </thead>\n  <tbody>\n    <tr>\n      <td>0</td>\n      <td>1</td>\n      <td>3</td>\n      <td>7</td>\n    </tr>\n    <tr>\n      <td>1</td>\n      <td>2</td>\n      <td>4</td>\n      <td>8</td>\n    </tr>\n  </tbody>\n</table>\n</div>"
     },
     "execution_count": 36,
     "metadata": {},
     "output_type": "execute_result"
    }
   ],
   "source": [
    "df1 = pd.DataFrame({'a':[1,2],'b':[3,4]})\n",
    "df2 = pd.DataFrame({'a':[1,2,5,6],'c':[7,8,9,10]})\n",
    "df3 = pd.merge(df1,df2,on='a')\n",
    "df3"
   ],
   "metadata": {
    "collapsed": false,
    "pycharm": {
     "name": "#%%\n"
    }
   }
  },
  {
   "cell_type": "markdown",
   "source": [
    "需要reset_index"
   ],
   "metadata": {
    "collapsed": false
   }
  },
  {
   "cell_type": "code",
   "execution_count": 52,
   "outputs": [
    {
     "data": {
      "text/plain": "      区域  小区数量\n0     丰台   855\n1  亦庄开发苑   213\n2     大兴   518\n3     房山   246\n4     昌平   503\n5     朝阳  2360\n6     海淀   780\n7    石景山   245\n8     西城  1016\n9     通州   263",
      "text/html": "<div>\n<style scoped>\n    .dataframe tbody tr th:only-of-type {\n        vertical-align: middle;\n    }\n\n    .dataframe tbody tr th {\n        vertical-align: top;\n    }\n\n    .dataframe thead th {\n        text-align: right;\n    }\n</style>\n<table border=\"1\" class=\"dataframe\">\n  <thead>\n    <tr style=\"text-align: right;\">\n      <th></th>\n      <th>区域</th>\n      <th>小区数量</th>\n    </tr>\n  </thead>\n  <tbody>\n    <tr>\n      <td>0</td>\n      <td>丰台</td>\n      <td>855</td>\n    </tr>\n    <tr>\n      <td>1</td>\n      <td>亦庄开发苑</td>\n      <td>213</td>\n    </tr>\n    <tr>\n      <td>2</td>\n      <td>大兴</td>\n      <td>518</td>\n    </tr>\n    <tr>\n      <td>3</td>\n      <td>房山</td>\n      <td>246</td>\n    </tr>\n    <tr>\n      <td>4</td>\n      <td>昌平</td>\n      <td>503</td>\n    </tr>\n    <tr>\n      <td>5</td>\n      <td>朝阳</td>\n      <td>2360</td>\n    </tr>\n    <tr>\n      <td>6</td>\n      <td>海淀</td>\n      <td>780</td>\n    </tr>\n    <tr>\n      <td>7</td>\n      <td>石景山</td>\n      <td>245</td>\n    </tr>\n    <tr>\n      <td>8</td>\n      <td>西城</td>\n      <td>1016</td>\n    </tr>\n    <tr>\n      <td>9</td>\n      <td>通州</td>\n      <td>263</td>\n    </tr>\n  </tbody>\n</table>\n</div>"
     },
     "execution_count": 52,
     "metadata": {},
     "output_type": "execute_result"
    }
   ],
   "source": [
    "# file_path = open(\"zfsj.csv\", encoding=\"utf-8\")\n",
    "file_data = pd.read_csv(\"zfsj_group.csv\",encoding=\"utf-8\")\n",
    "# file_data\n",
    "# housetype_data = file_data[\"户型\"]\n",
    "file_data.drop_duplicates()\n",
    "a = pd.DataFrame(file_data.groupby('区域', as_index=False)['小区名称'].count())\n",
    "a.rename(columns={'小区名称': '小区数量'}, inplace=True)\n",
    "a"
   ],
   "metadata": {
    "collapsed": false,
    "pycharm": {
     "name": "#%%\n"
    }
   }
  },
  {
   "cell_type": "code",
   "execution_count": 57,
   "outputs": [
    {
     "data": {
      "text/plain": "        amax  amin         mean\n分店                             \n人大分店   19500   175  3351.375000\n四季青分店   5700   280  1875.666667\n花园桥分店  19500    30  2660.111111\n金源分店    5700   280  1192.888889",
      "text/html": "<div>\n<style scoped>\n    .dataframe tbody tr th:only-of-type {\n        vertical-align: middle;\n    }\n\n    .dataframe tbody tr th {\n        vertical-align: top;\n    }\n\n    .dataframe thead th {\n        text-align: right;\n    }\n</style>\n<table border=\"1\" class=\"dataframe\">\n  <thead>\n    <tr style=\"text-align: right;\">\n      <th></th>\n      <th>amax</th>\n      <th>amin</th>\n      <th>mean</th>\n    </tr>\n    <tr>\n      <th>分店</th>\n      <th></th>\n      <th></th>\n      <th></th>\n    </tr>\n  </thead>\n  <tbody>\n    <tr>\n      <td>人大分店</td>\n      <td>19500</td>\n      <td>175</td>\n      <td>3351.375000</td>\n    </tr>\n    <tr>\n      <td>四季青分店</td>\n      <td>5700</td>\n      <td>280</td>\n      <td>1875.666667</td>\n    </tr>\n    <tr>\n      <td>花园桥分店</td>\n      <td>19500</td>\n      <td>30</td>\n      <td>2660.111111</td>\n    </tr>\n    <tr>\n      <td>金源分店</td>\n      <td>5700</td>\n      <td>280</td>\n      <td>1192.888889</td>\n    </tr>\n  </tbody>\n</table>\n</div>"
     },
     "execution_count": 57,
     "metadata": {},
     "output_type": "execute_result"
    }
   ],
   "source": [
    "ds = pd.read_excel(\"drug_order_detai_1.xlsx\",encoding=\"utf-8\")\n",
    "ds['销量'].sum()\n",
    "ds['销售额'] = ds['价格']*ds['销量']\n",
    "dd = pd.DataFrame(ds.groupby('分店')['销售额'].agg([np.max,np.min,np.mean]))\n",
    "dd"
   ],
   "metadata": {
    "collapsed": false,
    "pycharm": {
     "name": "#%%\n"
    }
   }
  }
 ],
 "metadata": {
  "kernelspec": {
   "display_name": "Python 3",
   "language": "python",
   "name": "python3"
  },
  "language_info": {
   "codemirror_mode": {
    "name": "ipython",
    "version": 2
   },
   "file_extension": ".py",
   "mimetype": "text/x-python",
   "name": "python",
   "nbconvert_exporter": "python",
   "pygments_lexer": "ipython2",
   "version": "2.7.6"
  }
 },
 "nbformat": 4,
 "nbformat_minor": 0
}