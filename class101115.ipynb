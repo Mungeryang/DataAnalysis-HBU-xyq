{
 "cells": [
  {
   "cell_type": "code",
   "execution_count": 26,
   "metadata": {
    "collapsed": true
   },
   "outputs": [
    {
     "data": {
      "text/plain": "            学号  专业    英语  体育    军训  数分   高代  解几\n0   2308024241  统计  76.0  78  77.0  40   23  60\n1   2308024244  统计  66.0  91  89.0  47   47  44\n2   2308024251  金融   NaN  81  75.0  90   45  60\n3   2308024249  金融  78.0  50   NaN  72   62  71\n4   2308024433  金融  73.0  88  92.0  61   79  46\n5   2308024201  统计  60.0  60  89.0  缺考   76  71\n6   2308024347  金融  67.0  61  84.0  60   65  78\n7   2308024251  金融  76.0  79  86.0  69   90  69\n8   2308024326  统计  66.0  67  85.0  65  102  71\n9   2308024433  金融  79.0  76  77.0  78   70  70\n10  2308024428  统计 -50.0  96  91.0  69   60  77",
      "text/html": "<div>\n<style scoped>\n    .dataframe tbody tr th:only-of-type {\n        vertical-align: middle;\n    }\n\n    .dataframe tbody tr th {\n        vertical-align: top;\n    }\n\n    .dataframe thead th {\n        text-align: right;\n    }\n</style>\n<table border=\"1\" class=\"dataframe\">\n  <thead>\n    <tr style=\"text-align: right;\">\n      <th></th>\n      <th>学号</th>\n      <th>专业</th>\n      <th>英语</th>\n      <th>体育</th>\n      <th>军训</th>\n      <th>数分</th>\n      <th>高代</th>\n      <th>解几</th>\n    </tr>\n  </thead>\n  <tbody>\n    <tr>\n      <th>0</th>\n      <td>2308024241</td>\n      <td>统计</td>\n      <td>76.0</td>\n      <td>78</td>\n      <td>77.0</td>\n      <td>40</td>\n      <td>23</td>\n      <td>60</td>\n    </tr>\n    <tr>\n      <th>1</th>\n      <td>2308024244</td>\n      <td>统计</td>\n      <td>66.0</td>\n      <td>91</td>\n      <td>89.0</td>\n      <td>47</td>\n      <td>47</td>\n      <td>44</td>\n    </tr>\n    <tr>\n      <th>2</th>\n      <td>2308024251</td>\n      <td>金融</td>\n      <td>NaN</td>\n      <td>81</td>\n      <td>75.0</td>\n      <td>90</td>\n      <td>45</td>\n      <td>60</td>\n    </tr>\n    <tr>\n      <th>3</th>\n      <td>2308024249</td>\n      <td>金融</td>\n      <td>78.0</td>\n      <td>50</td>\n      <td>NaN</td>\n      <td>72</td>\n      <td>62</td>\n      <td>71</td>\n    </tr>\n    <tr>\n      <th>4</th>\n      <td>2308024433</td>\n      <td>金融</td>\n      <td>73.0</td>\n      <td>88</td>\n      <td>92.0</td>\n      <td>61</td>\n      <td>79</td>\n      <td>46</td>\n    </tr>\n    <tr>\n      <th>5</th>\n      <td>2308024201</td>\n      <td>统计</td>\n      <td>60.0</td>\n      <td>60</td>\n      <td>89.0</td>\n      <td>缺考</td>\n      <td>76</td>\n      <td>71</td>\n    </tr>\n    <tr>\n      <th>6</th>\n      <td>2308024347</td>\n      <td>金融</td>\n      <td>67.0</td>\n      <td>61</td>\n      <td>84.0</td>\n      <td>60</td>\n      <td>65</td>\n      <td>78</td>\n    </tr>\n    <tr>\n      <th>7</th>\n      <td>2308024251</td>\n      <td>金融</td>\n      <td>76.0</td>\n      <td>79</td>\n      <td>86.0</td>\n      <td>69</td>\n      <td>90</td>\n      <td>69</td>\n    </tr>\n    <tr>\n      <th>8</th>\n      <td>2308024326</td>\n      <td>统计</td>\n      <td>66.0</td>\n      <td>67</td>\n      <td>85.0</td>\n      <td>65</td>\n      <td>102</td>\n      <td>71</td>\n    </tr>\n    <tr>\n      <th>9</th>\n      <td>2308024433</td>\n      <td>金融</td>\n      <td>79.0</td>\n      <td>76</td>\n      <td>77.0</td>\n      <td>78</td>\n      <td>70</td>\n      <td>70</td>\n    </tr>\n    <tr>\n      <th>10</th>\n      <td>2308024428</td>\n      <td>统计</td>\n      <td>-50.0</td>\n      <td>96</td>\n      <td>91.0</td>\n      <td>69</td>\n      <td>60</td>\n      <td>77</td>\n    </tr>\n  </tbody>\n</table>\n</div>"
     },
     "execution_count": 26,
     "metadata": {},
     "output_type": "execute_result"
    }
   ],
   "source": [
    "import numpy as np\n",
    "import pandas as pd\n",
    "df = pd.read_table(\"pywork.txt\",index_col=False,encoding=\"utf-8\")\n",
    "df"
   ]
  },
  {
   "cell_type": "code",
   "execution_count": 30,
   "outputs": [
    {
     "name": "stderr",
     "output_type": "stream",
     "text": [
      "D:\\anaconda\\lib\\site-packages\\ipykernel_launcher.py:16: SettingWithCopyWarning: \n",
      "A value is trying to be set on a copy of a slice from a DataFrame\n",
      "\n",
      "See the caveats in the documentation: https://pandas.pydata.org/pandas-docs/stable/user_guide/indexing.html#returning-a-view-versus-a-copy\n",
      "  \n",
      "D:\\anaconda\\lib\\site-packages\\ipykernel_launcher.py:14: SettingWithCopyWarning: \n",
      "A value is trying to be set on a copy of a slice from a DataFrame\n",
      "\n",
      "See the caveats in the documentation: https://pandas.pydata.org/pandas-docs/stable/user_guide/indexing.html#returning-a-view-versus-a-copy\n",
      "  \n"
     ]
    },
    {
     "data": {
      "text/plain": "    英语  解几   高代  体育  数分  军训\n0   76  60   23  78  40  77\n1   66  44   47  91  47  89\n2   21  60   45  81  90  75\n3   78  71   62  50  72  98\n4   73  46   79  88  61  92\n5   60  71   76  60  22  89\n6   67  78   65  61  60  84\n7   76  69   90  79  69  86\n8   66  71  102  67  65  85\n9   79  70   70  76  78  77\n10  50  77   60  96  69  91",
      "text/html": "<div>\n<style scoped>\n    .dataframe tbody tr th:only-of-type {\n        vertical-align: middle;\n    }\n\n    .dataframe tbody tr th {\n        vertical-align: top;\n    }\n\n    .dataframe thead th {\n        text-align: right;\n    }\n</style>\n<table border=\"1\" class=\"dataframe\">\n  <thead>\n    <tr style=\"text-align: right;\">\n      <th></th>\n      <th>英语</th>\n      <th>解几</th>\n      <th>高代</th>\n      <th>体育</th>\n      <th>数分</th>\n      <th>军训</th>\n    </tr>\n  </thead>\n  <tbody>\n    <tr>\n      <th>0</th>\n      <td>76</td>\n      <td>60</td>\n      <td>23</td>\n      <td>78</td>\n      <td>40</td>\n      <td>77</td>\n    </tr>\n    <tr>\n      <th>1</th>\n      <td>66</td>\n      <td>44</td>\n      <td>47</td>\n      <td>91</td>\n      <td>47</td>\n      <td>89</td>\n    </tr>\n    <tr>\n      <th>2</th>\n      <td>21</td>\n      <td>60</td>\n      <td>45</td>\n      <td>81</td>\n      <td>90</td>\n      <td>75</td>\n    </tr>\n    <tr>\n      <th>3</th>\n      <td>78</td>\n      <td>71</td>\n      <td>62</td>\n      <td>50</td>\n      <td>72</td>\n      <td>98</td>\n    </tr>\n    <tr>\n      <th>4</th>\n      <td>73</td>\n      <td>46</td>\n      <td>79</td>\n      <td>88</td>\n      <td>61</td>\n      <td>92</td>\n    </tr>\n    <tr>\n      <th>5</th>\n      <td>60</td>\n      <td>71</td>\n      <td>76</td>\n      <td>60</td>\n      <td>22</td>\n      <td>89</td>\n    </tr>\n    <tr>\n      <th>6</th>\n      <td>67</td>\n      <td>78</td>\n      <td>65</td>\n      <td>61</td>\n      <td>60</td>\n      <td>84</td>\n    </tr>\n    <tr>\n      <th>7</th>\n      <td>76</td>\n      <td>69</td>\n      <td>90</td>\n      <td>79</td>\n      <td>69</td>\n      <td>86</td>\n    </tr>\n    <tr>\n      <th>8</th>\n      <td>66</td>\n      <td>71</td>\n      <td>102</td>\n      <td>67</td>\n      <td>65</td>\n      <td>85</td>\n    </tr>\n    <tr>\n      <th>9</th>\n      <td>79</td>\n      <td>70</td>\n      <td>70</td>\n      <td>76</td>\n      <td>78</td>\n      <td>77</td>\n    </tr>\n    <tr>\n      <th>10</th>\n      <td>50</td>\n      <td>77</td>\n      <td>60</td>\n      <td>96</td>\n      <td>69</td>\n      <td>91</td>\n    </tr>\n  </tbody>\n</table>\n</div>"
     },
     "execution_count": 30,
     "metadata": {},
     "output_type": "execute_result"
    }
   ],
   "source": [
    "df = pd.read_table(\"pywork.txt\",index_col=False,encoding=\"utf-8\")\n",
    "df.fillna(0,inplace=True)\n",
    "df[\"数分\"].replace(\"缺考\",0,inplace=True)\n",
    "df.解几 = df.解几.astype(\"int\")\n",
    "df.高代 = df.高代.astype(\"int\")\n",
    "df.英语 = df.英语.astype(\"int\")\n",
    "df.体育 = df.体育.astype(\"int\")\n",
    "df.数分 = df.数分.astype(\"int\")\n",
    "df.军训 = df.军训.astype(\"int\")\n",
    "list1 = list([df.英语,df.解几,df.高代,df.体育,df.数分,df.军训])\n",
    "for i in range(len(list1)):\n",
    "    for j in range(len(list1[i])):\n",
    "        if list1[i][j] < 0:\n",
    "            list1[i][j] = np.abs(list1[i][j])\n",
    "        if list1[i][j] == 0:\n",
    "            list1[i][j] = np.random.randint(20,100,1)\n",
    "list1\n",
    "df1 = pd.DataFrame(list1).T\n",
    "df1"
   ],
   "metadata": {
    "collapsed": false,
    "pycharm": {
     "name": "#%%\n"
    }
   }
  },
  {
   "cell_type": "markdown",
   "source": [
    "利用numpy计算一些简单线性代数问题："
   ],
   "metadata": {
    "collapsed": false
   }
  },
  {
   "cell_type": "code",
   "execution_count": 34,
   "outputs": [
    {
     "data": {
      "text/plain": "array([[-0.64381161,  0.10681907,  0.65281196, -0.26166349,  0.28189547],\n       [ 0.4239385 ,  0.45983634, -0.01421431, -0.05224721,  0.7783925 ],\n       [ 0.42215196, -0.56412751,  0.5941136 ,  0.36247625,  0.13852028],\n       [ 0.12880178,  0.67523084,  0.38056249,  0.44235037, -0.4324023 ],\n       [-0.45932623, -0.0544398 , -0.27538284,  0.77571874,  0.3293637 ]])"
     },
     "execution_count": 34,
     "metadata": {},
     "output_type": "execute_result"
    }
   ],
   "source": [
    "np.random.seed(1010)\n",
    "x = np.random.randn(50,5)\n",
    "va,ve = np.linalg.eig(np.corrcoef(x.T))\n",
    "va\n",
    "ve"
   ],
   "metadata": {
    "collapsed": false,
    "pycharm": {
     "name": "#%%\n"
    }
   }
  }
 ],
 "metadata": {
  "kernelspec": {
   "display_name": "Python 3",
   "language": "python",
   "name": "python3"
  },
  "language_info": {
   "codemirror_mode": {
    "name": "ipython",
    "version": 2
   },
   "file_extension": ".py",
   "mimetype": "text/x-python",
   "name": "python",
   "nbconvert_exporter": "python",
   "pygments_lexer": "ipython2",
   "version": "2.7.6"
  }
 },
 "nbformat": 4,
 "nbformat_minor": 0
}