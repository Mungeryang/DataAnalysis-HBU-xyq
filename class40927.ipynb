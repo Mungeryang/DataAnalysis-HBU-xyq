{
 "cells": [
  {
   "cell_type": "markdown",
   "source": [
    "python文件数据读取\n",
    "导入读取TXT文件与CSV文件\n",
    "\n",
    "pd.read_table(路径,sep=\"\\t\",index_col=False,encoding=\"看文件情况\")\n",
    "pd.read_csv(路径,sep=“\\t”,index_col=False,encoding=“看文件情况”)\n",
    "df = pd.read_excel(\"phy.xlsx\")\n",
    "table与csv可以互换\n",
    "\n",
    "df1 = pd.read_excel(filename,sheet_name,header,names)\n",
    "sheet_name:表名字\n",
    "\n",
    "显示前后五行(默认)\n",
    "df.head(参数)\n",
    "df.tail()"
   ],
   "metadata": {
    "collapsed": false
   }
  },
  {
   "cell_type": "code",
   "execution_count": 2,
   "metadata": {
    "collapsed": true
   },
   "outputs": [
    {
     "ename": "AttributeError",
     "evalue": "'DataFrame' object has no attribute 'drop_duplicateds'",
     "output_type": "error",
     "traceback": [
      "\u001B[1;31m---------------------------------------------------------------------------\u001B[0m",
      "\u001B[1;31mAttributeError\u001B[0m                            Traceback (most recent call last)",
      "\u001B[1;32m<ipython-input-2-9b0d0fbfcaf5>\u001B[0m in \u001B[0;36m<module>\u001B[1;34m\u001B[0m\n\u001B[0;32m      4\u001B[0m \u001B[0mdf\u001B[0m\u001B[1;33m.\u001B[0m\u001B[0mtail\u001B[0m\u001B[1;33m(\u001B[0m\u001B[1;36m20\u001B[0m\u001B[1;33m)\u001B[0m\u001B[1;33m\u001B[0m\u001B[1;33m\u001B[0m\u001B[0m\n\u001B[0;32m      5\u001B[0m \u001B[1;33m\u001B[0m\u001B[0m\n\u001B[1;32m----> 6\u001B[1;33m \u001B[0mdf\u001B[0m\u001B[1;33m.\u001B[0m\u001B[0mdrop_duplicateds\u001B[0m\u001B[1;33m(\u001B[0m\u001B[1;33m)\u001B[0m\u001B[1;33m\u001B[0m\u001B[1;33m\u001B[0m\u001B[0m\n\u001B[0m",
      "\u001B[1;32mD:\\anaconda\\lib\\site-packages\\pandas\\core\\generic.py\u001B[0m in \u001B[0;36m__getattr__\u001B[1;34m(self, name)\u001B[0m\n\u001B[0;32m   5177\u001B[0m             \u001B[1;32mif\u001B[0m \u001B[0mself\u001B[0m\u001B[1;33m.\u001B[0m\u001B[0m_info_axis\u001B[0m\u001B[1;33m.\u001B[0m\u001B[0m_can_hold_identifiers_and_holds_name\u001B[0m\u001B[1;33m(\u001B[0m\u001B[0mname\u001B[0m\u001B[1;33m)\u001B[0m\u001B[1;33m:\u001B[0m\u001B[1;33m\u001B[0m\u001B[1;33m\u001B[0m\u001B[0m\n\u001B[0;32m   5178\u001B[0m                 \u001B[1;32mreturn\u001B[0m \u001B[0mself\u001B[0m\u001B[1;33m[\u001B[0m\u001B[0mname\u001B[0m\u001B[1;33m]\u001B[0m\u001B[1;33m\u001B[0m\u001B[1;33m\u001B[0m\u001B[0m\n\u001B[1;32m-> 5179\u001B[1;33m             \u001B[1;32mreturn\u001B[0m \u001B[0mobject\u001B[0m\u001B[1;33m.\u001B[0m\u001B[0m__getattribute__\u001B[0m\u001B[1;33m(\u001B[0m\u001B[0mself\u001B[0m\u001B[1;33m,\u001B[0m \u001B[0mname\u001B[0m\u001B[1;33m)\u001B[0m\u001B[1;33m\u001B[0m\u001B[1;33m\u001B[0m\u001B[0m\n\u001B[0m\u001B[0;32m   5180\u001B[0m \u001B[1;33m\u001B[0m\u001B[0m\n\u001B[0;32m   5181\u001B[0m     \u001B[1;32mdef\u001B[0m \u001B[0m__setattr__\u001B[0m\u001B[1;33m(\u001B[0m\u001B[0mself\u001B[0m\u001B[1;33m,\u001B[0m \u001B[0mname\u001B[0m\u001B[1;33m,\u001B[0m \u001B[0mvalue\u001B[0m\u001B[1;33m)\u001B[0m\u001B[1;33m:\u001B[0m\u001B[1;33m\u001B[0m\u001B[1;33m\u001B[0m\u001B[0m\n",
      "\u001B[1;31mAttributeError\u001B[0m: 'DataFrame' object has no attribute 'drop_duplicateds'"
     ]
    }
   ],
   "source": [
    "import pandas as pd\n",
    "df = pd.read_excel(\"phy.xlsx\")\n",
    "df.head(10)\n",
    "df.tail(20)\n",
    "\n",
    "df.drop_duplicateds()"
   ]
  },
  {
   "cell_type": "markdown",
   "source": [
    "文件保存：\n",
    "pd.to_csv(filename,sep=',',header=True,encoding=\" \")\n",
    "路径书写注意：“e://python//a.csv”\n",
    "sep:分隔符\n",
    "header:是否导出列名,默认TRUE\n",
    "index:保存成Excel文件以后，会自动添加一行索引，index参数调成False会把索引列取消。\n"
   ],
   "metadata": {
    "collapsed": false
   }
  },
  {
   "cell_type": "code",
   "execution_count": null,
   "outputs": [],
   "source": [
    "import pandas as pd\n",
    "school = pd.read_excel(\"school.xlsx\")\n",
    "school"
   ],
   "metadata": {
    "collapsed": false,
    "pycharm": {
     "name": "#%%\n"
    }
   }
  },
  {
   "cell_type": "markdown",
   "source": [
    "数据清洗工作：\n",
    "1.重复值处理\n",
    "duplicated()/以列数据为基础,当所有两行都是一样的数据时，我们来做决定.\n",
    "两个常用参数：subse根据那一列判断是否重复t、keep重复值中哪一行不被标注为TRUE（即保留哪一行）\n",
    "drop_duplicated()\n",
    "inplace:是否代替原来的DataFrame,换成True就是真正删除\n",
    "直接删除重复行\n",
    "2.空值处理\n",
    "isna()/isnull()\n",
    "判断哪些元素是缺失值\n",
    "notna()/notnull()与上面函数的用法相反\n",
    "\n",
    "info():描述DataFrame的信息\n",
    "空值也是float\n",
    "<class 'pandas.core.frame.DataFrame'>\n",
    "RangeIndex: 552 entries, 0 to 551\n",
    "Data columns (total 3 columns):\n",
    "score        552 non-null object\n",
    "phy_nums     552 non-null int64\n",
    "phy_order    552 non-null int64\n",
    "dtypes: int64(2), object(1)\n",
    "memory usage: 13.1+ KB\n",
    "\n",
    "df[df.score.isnull()]\n",
    "直接输出含有空值的行索引号\n",
    "\n",
    "3.数据替换\n",
    "replace()\n",
    "replace(to_value,value,inplace=False)\n",
    "to_value:被替换\n",
    "value：替换完成的\n",
    "\n",
    "直接赋值替换\n",
    "df[df.score.isnull()] = 10\n",
    "布尔索引:\n",
    "df.score[df.score>600] = 650\n",
    "\n",
    "\n",
    "4.删除\n",
    "drop()\n",
    "\n",
    "5.缺失值的处理\n",
    "删除空值：dropna(axis=0,inplace=False)->返回一行数据包含索引\n",
    "axis:0是行，1是列，默认为0\n",
    "数据填充:fillna(value,inplace=False)\n",
    "value：填充的值\n",
    "用每一列的统计值：按照列来填写，注意替换的顺序\n",
    "df.fillna(df.score.mean())\n",
    "前一个值填充：按照列来填写，注意替换的顺序\n",
    "df.fillna(method=\"ffill\")\n",
    "后一个值填充：按照列来填写，注意替换的顺序\n",
    "df.fillna(method=\"bfill\")\n",
    "针对不同的列选择不同的数据进行填充：针对不同的列选择不同的数据进行填充：\n",
    "df.fillna({'A':6,'B':3})    A、B是列的名字\n"
   ],
   "metadata": {
    "collapsed": false
   }
  },
  {
   "cell_type": "code",
   "execution_count": 26,
   "outputs": [],
   "source": [
    "import pandas as pd\n",
    "sc = pd.read_excel(\"school.xlsx\")\n",
    "sc.院校名称 = list(sc[\"院校名称\"][i].split(\"(\")[0] for i in range(len(sc.院校名称)))\n",
    "sc.to_excel(\"newschool.xlsx\",index=False,header=True,encoding=\"utf-8\")"
   ],
   "metadata": {
    "collapsed": false,
    "pycharm": {
     "name": "#%%\n"
    }
   }
  },
  {
   "cell_type": "code",
   "execution_count": 11,
   "outputs": [
    {
     "data": {
      "text/plain": "    B   D\n0  B1  D1\n1  B2  D2\n2  B3  D3",
      "text/html": "<div>\n<style scoped>\n    .dataframe tbody tr th:only-of-type {\n        vertical-align: middle;\n    }\n\n    .dataframe tbody tr th {\n        vertical-align: top;\n    }\n\n    .dataframe thead th {\n        text-align: right;\n    }\n</style>\n<table border=\"1\" class=\"dataframe\">\n  <thead>\n    <tr style=\"text-align: right;\">\n      <th></th>\n      <th>B</th>\n      <th>D</th>\n    </tr>\n  </thead>\n  <tbody>\n    <tr>\n      <td>0</td>\n      <td>B1</td>\n      <td>D1</td>\n    </tr>\n    <tr>\n      <td>1</td>\n      <td>B2</td>\n      <td>D2</td>\n    </tr>\n    <tr>\n      <td>2</td>\n      <td>B3</td>\n      <td>D3</td>\n    </tr>\n  </tbody>\n</table>\n</div>"
     },
     "execution_count": 11,
     "metadata": {},
     "output_type": "execute_result"
    }
   ],
   "source": [
    "import pandas as pd\n",
    "df = pd.DataFrame([['A1','B1','C1','D1'],['A2','B2','C2','D2'],['A3','B3','C3','D3']],columns=['A','B','C','D'])\n",
    "df.loc[:,['B','D']]"
   ],
   "metadata": {
    "collapsed": false,
    "pycharm": {
     "name": "#%%\n"
    }
   }
  },
  {
   "cell_type": "code",
   "execution_count": 30,
   "outputs": [],
   "source": [
    "import pandas as pd\n",
    "sch = pd.read_excel(\"newschool.xlsx\")\n",
    "sch.院校名称 = list(sch[\"院校名称\"][i].split(\"[\")[0] for i in range(len(sch.院校名称)))\n",
    "sch.to_excel(\"C://Users//Administrator//Desktop//School.xlsx\",index=False,header=True,encoding=\"utf-8\")"
   ],
   "metadata": {
    "collapsed": false,
    "pycharm": {
     "name": "#%%\n"
    }
   }
  }
 ],
 "metadata": {
  "kernelspec": {
   "display_name": "Python 3",
   "language": "python",
   "name": "python3"
  },
  "language_info": {
   "codemirror_mode": {
    "name": "ipython",
    "version": 2
   },
   "file_extension": ".py",
   "mimetype": "text/x-python",
   "name": "python",
   "nbconvert_exporter": "python",
   "pygments_lexer": "ipython2",
   "version": "2.7.6"
  }
 },
 "nbformat": 4,
 "nbformat_minor": 0
}